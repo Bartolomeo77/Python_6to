{
 "cells": [
  {
   "cell_type": "code",
   "execution_count": 1,
   "metadata": {},
   "outputs": [
    {
     "name": "stdout",
     "output_type": "stream",
     "text": [
      "38916\n"
     ]
    }
   ],
   "source": [
    "#Importamos la librería pandas que se menciono anteriormente\n",
    "import pandas as pd\n",
    "#Ahora instancias los valores del archivo csv\n",
    "Df=pd.read_csv(\"GBvideos.csv\")\n",
    "#Df=pd.read_csv(\"/content/prueba3.xlsx\")\n",
    "#Procedemos a calcular la cantidad de asientos del archivo (filas)\n",
    "print (len(Df.index))"
   ]
  },
  {
   "cell_type": "code",
   "execution_count": 2,
   "metadata": {},
   "outputs": [],
   "source": [
    "# se seleccionará el 1%\n",
    "df = Df.sample(frac=0.001)\n",
    "# reseteamos los índices dado que elegimos una fracción de los datos\n",
    "df = df.reset_index(drop=True)\n",
    "# para obtener el número de filas y columnas\n",
    "#print (df.shape)\n",
    "# y podemos comparar con el proceso inicial (que no separa el 1%)\n",
    "#print (Df.shape)\n",
    "# 38916 filas contra los 39 filas\n",
    "#print ()\n",
    "#Veamos el contenido del 1%\n",
    "#print (df['tags'].head())\n",
    "#Vamos a limpiar los datos para eliminar los signos de puntuación\n",
    "#para eso usaremos la librería \"string\" y reemplazamos los símbolos de puntuación\n",
    "#por un espacio en blanco\n",
    "import string\n",
    "df['nuevotag'] = df['tags'].str.replace('[{}]'.format(string.punctuation), ' ')\n",
    "#print ()\n",
    "#print(df['nuevotag'].head())"
   ]
  }
 ],
 "metadata": {
  "kernelspec": {
   "display_name": "Python 3",
   "language": "python",
   "name": "python3"
  },
  "language_info": {
   "codemirror_mode": {
    "name": "ipython",
    "version": 3
   },
   "file_extension": ".py",
   "mimetype": "text/x-python",
   "name": "python",
   "nbconvert_exporter": "python",
   "pygments_lexer": "ipython3",
   "version": "3.11.5"
  },
  "orig_nbformat": 4
 },
 "nbformat": 4,
 "nbformat_minor": 2
}

{
 "cells": [
  {
   "cell_type": "code",
   "execution_count": 10,
   "metadata": {},
   "outputs": [],
   "source": [
    "import numpy as np\n",
    "import pandas as pd\n",
    "\n",
    "# Convert MovieLens data to binary using numpy_to_binary function\n",
    "def movie_lens_to_binary(input_file, output_file):\n",
    "    # Load MovieLens data using Pandas\n",
    "    ratings = pd.read_csv(input_file, sep='\\t', header=None,\n",
    "                          names=['userId', 'movieId', 'rating', 'rating_timestamp'])\n",
    "    # Convert to NumPy array\n",
    "    np_data = np.array(ratings[['userId', 'movieId', 'rating']])\n",
    "    # Write to binary file\n",
    "    with open(output_file, \"wb\") as bin_file:\n",
    "        bin_file.write(np_data.astype(np.int32).tobytes())\n",
    "movie_lens_to_binary('u.data', 'output_binary.bin')"
   ]
  },
  {
   "cell_type": "code",
   "execution_count": 11,
   "metadata": {},
   "outputs": [
    {
     "name": "stdout",
     "output_type": "stream",
     "text": [
      "   userId  movieId  rating\n",
      "0     196      242       3\n",
      "1     186      302       3\n",
      "2      22      377       1\n",
      "3     244       51       2\n",
      "4     166      346       1\n",
      "5     298      474       4\n",
      "6     115      265       2\n",
      "7     253      465       5\n",
      "8     305      451       3\n",
      "9       6       86       3\n"
     ]
    }
   ],
   "source": [
    "\n",
    "def binary_to_pandas(bin_file, num_rows=10):\n",
    "    # Read binary data into NumPy array\n",
    "    with open(bin_file, 'rb') as f:\n",
    "        binary_data = f.read()\n",
    "\n",
    "    # Convert binary data back to NumPy array\n",
    "    np_data = np.frombuffer(binary_data, dtype=np.int32).reshape(-1, 3)  # Assuming 3 columns\n",
    "\n",
    "    # Convert NumPy array to Pandas DataFrame\n",
    "    df = pd.DataFrame(np_data, columns=['userId', 'movieId', 'rating'])\n",
    "\n",
    "    # Display the equivalent of ratings.head(10)\n",
    "    print(df.head(num_rows))\n",
    "\n",
    "# Usage\n",
    "binary_to_pandas('output_binary.bin', num_rows=10)\n"
   ]
  },
  {
   "cell_type": "code",
   "execution_count": 12,
   "metadata": {},
   "outputs": [
    {
     "name": "stdout",
     "output_type": "stream",
     "text": [
      "Maximum userId: 943\n",
      "Minimum userId: 1\n",
      "Number of rows: 100000\n"
     ]
    }
   ],
   "source": [
    "import numpy as np\n",
    "import pandas as pd\n",
    "\n",
    "def binary_to_pandas_with_stats(bin_file, num_rows=10):\n",
    "    # Read binary data into NumPy array\n",
    "    with open(bin_file, 'rb') as f:\n",
    "        binary_data = f.read()\n",
    "    # Convert binary data back to NumPy array\n",
    "    np_data = np.frombuffer(binary_data, dtype=np.int32).reshape(-1, 3)  # Assuming 3 columns\n",
    "    # Convert NumPy array to Pandas DataFrame\n",
    "    df = pd.DataFrame(np_data, columns=['userId', 'movieId', 'rating'])\n",
    "    # Calculate max and min values for 'userId'\n",
    "    userId_max = df['userId'].max()\n",
    "    userId_min = df['userId'].min()\n",
    "    num_rows_df = len(df.index)\n",
    "    return userId_max, userId_min, num_rows_df\n",
    "# Usage\n",
    "userId_max, userId_min, num_rows_df = binary_to_pandas_with_stats('output_binary.bin', num_rows=10)\n",
    "\n",
    "print(f\"Maximum userId: {userId_max}\")\n",
    "print(f\"Minimum userId: {userId_min}\")\n",
    "print(f\"Number of rows: {num_rows_df}\")"
   ]
  },
  {
   "cell_type": "code",
   "execution_count": 13,
   "metadata": {},
   "outputs": [
    {
     "name": "stdout",
     "output_type": "stream",
     "text": [
      "Consolidated data:\n",
      "movieId  1     2     3     4     5     6     7     8     9     10    ...  \\\n",
      "userId                                                               ...   \n",
      "1         5.0   3.0   4.0   3.0   3.0   5.0   4.0   1.0   5.0   3.0  ...   \n",
      "2         4.0   NaN   NaN   NaN   NaN   NaN   NaN   NaN   NaN   2.0  ...   \n",
      "3         NaN   NaN   NaN   NaN   NaN   NaN   NaN   NaN   NaN   NaN  ...   \n",
      "4         NaN   NaN   NaN   NaN   NaN   NaN   NaN   NaN   NaN   NaN  ...   \n",
      "5         4.0   3.0   NaN   NaN   NaN   NaN   NaN   NaN   NaN   NaN  ...   \n",
      "...       ...   ...   ...   ...   ...   ...   ...   ...   ...   ...  ...   \n",
      "939       NaN   NaN   NaN   NaN   NaN   NaN   NaN   NaN   5.0   NaN  ...   \n",
      "940       NaN   NaN   NaN   2.0   NaN   NaN   4.0   5.0   3.0   NaN  ...   \n",
      "941       5.0   NaN   NaN   NaN   NaN   NaN   4.0   NaN   NaN   NaN  ...   \n",
      "942       NaN   NaN   NaN   NaN   NaN   NaN   NaN   NaN   NaN   NaN  ...   \n",
      "943       NaN   5.0   NaN   NaN   NaN   NaN   NaN   NaN   3.0   NaN  ...   \n",
      "\n",
      "movieId  1673  1674  1675  1676  1677  1678  1679  1680  1681  1682  \n",
      "userId                                                               \n",
      "1         NaN   NaN   NaN   NaN   NaN   NaN   NaN   NaN   NaN   NaN  \n",
      "2         NaN   NaN   NaN   NaN   NaN   NaN   NaN   NaN   NaN   NaN  \n",
      "3         NaN   NaN   NaN   NaN   NaN   NaN   NaN   NaN   NaN   NaN  \n",
      "4         NaN   NaN   NaN   NaN   NaN   NaN   NaN   NaN   NaN   NaN  \n",
      "5         NaN   NaN   NaN   NaN   NaN   NaN   NaN   NaN   NaN   NaN  \n",
      "...       ...   ...   ...   ...   ...   ...   ...   ...   ...   ...  \n",
      "939       NaN   NaN   NaN   NaN   NaN   NaN   NaN   NaN   NaN   NaN  \n",
      "940       NaN   NaN   NaN   NaN   NaN   NaN   NaN   NaN   NaN   NaN  \n",
      "941       NaN   NaN   NaN   NaN   NaN   NaN   NaN   NaN   NaN   NaN  \n",
      "942       NaN   NaN   NaN   NaN   NaN   NaN   NaN   NaN   NaN   NaN  \n",
      "943       NaN   NaN   NaN   NaN   NaN   NaN   NaN   NaN   NaN   NaN  \n",
      "\n",
      "[943 rows x 1682 columns]\n"
     ]
    }
   ],
   "source": [
    "#16 seg\n",
    "import numpy as np\n",
    "import pandas as pd\n",
    "\n",
    "def binary_to_pandas_with_stats(bin_file, num_rows=10):\n",
    "    # Read binary data into NumPy array\n",
    "    with open(bin_file, 'rb') as f:\n",
    "        binary_data = f.read()\n",
    "    # Convert binary data back to NumPy array\n",
    "    np_data = np.frombuffer(binary_data, dtype=np.int32).reshape(-1, 3)  # Assuming 3 columns\n",
    "    # Convert NumPy array to Pandas DataFrame\n",
    "    df = pd.DataFrame(np_data, columns=['userId', 'movieId', 'rating'])\n",
    "    return df\n",
    "def consolidate_data(df):\n",
    "    # Group by 'userId' and 'movieId' and calculate the mean of 'rating'\n",
    "    consolidated_df = df.groupby(['userId', 'movieId'])['rating'].mean().unstack()\n",
    "    return consolidated_df\n",
    "df = binary_to_pandas_with_stats('output_binary.bin', num_rows=10)\n",
    "\n",
    "# Consolidate data\n",
    "consolidated_df = consolidate_data(df)\n",
    "print(\"Consolidated data:\")\n",
    "print(consolidated_df)\n"
   ]
  },
  {
   "cell_type": "code",
   "execution_count": 14,
   "metadata": {},
   "outputs": [
    {
     "name": "stdout",
     "output_type": "stream",
     "text": [
      "Nearest Neighbors for User 1: [(1, 0.0), (738, 826.0), (215, 863.0), (521, 865.0), (77, 872.0), (508, 881.0), (44, 887.0), (933, 887.0), (715, 895.0), (352, 897.0), (538, 897.0), (778, 898.0), (746, 902.0), (248, 906.0), (737, 907.0), (96, 909.0), (806, 910.0), (638, 913.0), (823, 917.0), (748, 918.0), (844, 922.0), (177, 924.0), (773, 924.0), (468, 929.0), (226, 930.0), (97, 930.0), (297, 930.0), (175, 930.0), (124, 930.0), (913, 933.0), (247, 934.0), (745, 934.0), (73, 936.0), (41, 936.0), (421, 937.0), (584, 937.0), (700, 937.0), (371, 939.0), (411, 939.0), (781, 941.0), (53, 941.0), (868, 942.0), (723, 944.0), (8, 944.0), (757, 945.0), (307, 945.0), (272, 945.0), (12, 946.0), (69, 946.0), (198, 947.0), (412, 947.0), (514, 947.0), (23, 947.0), (64, 949.0), (402, 949.0), (148, 950.0), (632, 950.0), (867, 951.0), (103, 951.0), (686, 952.0), (680, 952.0), (51, 952.0), (55, 953.0), (742, 954.0), (182, 954.0), (929, 955.0), (493, 955.0), (71, 956.0), (679, 957.0), (566, 957.0), (442, 957.0), (183, 957.0), (114, 957.0), (838, 957.0), (661, 958.0), (480, 958.0), (17, 959.0), (150, 959.0), (554, 961.0), (794, 962.0), (350, 962.0), (785, 962.0), (922, 962.0), (786, 963.0), (80, 963.0), (447, 964.0), (899, 964.0), (623, 964.0), (467, 966.0), (161, 966.0), (25, 966.0), (930, 967.0), (579, 967.0), (594, 967.0), (479, 967.0), (763, 968.0), (37, 968.0), (484, 969.0), (730, 969.0), (528, 969.0), (288, 969.0), (65, 969.0), (22, 969.0), (218, 969.0), (249, 969.0), (886, 969.0), (522, 970.0), (601, 970.0), (483, 970.0), (165, 970.0), (603, 970.0), (910, 970.0), (684, 970.0), (636, 971.0), (571, 971.0), (928, 972.0), (156, 972.0), (202, 972.0), (777, 972.0), (153, 972.0), (555, 973.0), (419, 973.0), (779, 973.0), (394, 973.0), (430, 973.0), (120, 973.0), (20, 973.0), (275, 974.0), (625, 974.0), (251, 974.0), (795, 974.0), (765, 974.0), (494, 974.0), (142, 974.0), (216, 974.0), (576, 975.0), (232, 975.0), (575, 976.0), (558, 976.0), (115, 976.0), (89, 977.0), (237, 977.0), (658, 977.0), (689, 978.0), (136, 978.0), (32, 978.0), (465, 979.0), (214, 979.0), (72, 979.0), (512, 979.0), (488, 979.0), (604, 979.0), (513, 980.0), (678, 980.0), (28, 980.0), (106, 981.0), (645, 981.0), (850, 981.0), (315, 981.0), (137, 981.0), (530, 981.0), (549, 981.0), (453, 981.0), (370, 981.0), (337, 982.0), (822, 982.0), (879, 983.0), (132, 983.0), (283, 983.0), (162, 983.0), (285, 984.0), (163, 984.0), (108, 984.0), (369, 984.0), (774, 985.0), (473, 985.0), (706, 986.0), (756, 986.0), (187, 986.0), (259, 986.0), (185, 986.0), (135, 986.0), (847, 987.0), (649, 987.0), (322, 987.0), (68, 987.0), (789, 987.0), (739, 988.0), (741, 988.0), (690, 988.0), (70, 988.0), (516, 988.0), (93, 989.0), (287, 989.0), (800, 989.0), (769, 989.0), (252, 989.0), (395, 990.0), (368, 990.0), (376, 990.0), (583, 990.0), (199, 990.0), (407, 990.0), (192, 991.0), (117, 991.0), (290, 991.0), (895, 991.0), (441, 992.0), (138, 992.0), (667, 992.0), (360, 992.0), (67, 993.0), (490, 993.0), (941, 993.0), (573, 993.0), (209, 993.0), (643, 994.0), (710, 994.0), (771, 994.0), (888, 994.0), (333, 994.0), (669, 994.0), (289, 995.0), (753, 995.0), (213, 995.0), (329, 995.0), (660, 995.0), (310, 995.0), (245, 996.0), (767, 996.0), (359, 996.0), (131, 996.0), (633, 996.0), (266, 997.0), (306, 997.0), (855, 997.0), (612, 997.0), (572, 997.0), (496, 997.0), (377, 997.0), (793, 997.0), (481, 997.0), (542, 997.0), (814, 998.0), (602, 998.0), (267, 998.0), (188, 998.0), (439, 999.0), (937, 999.0), (581, 999.0), (491, 999.0), (505, 999.0), (760, 999.0), (843, 1000.0), (415, 1000.0), (76, 1000.0), (629, 1000.0), (24, 1000.0), (736, 1000.0), (869, 1001.0), (98, 1001.0), (539, 1001.0), (662, 1001.0), (231, 1001.0), (908, 1001.0), (27, 1001.0), (19, 1001.0), (461, 1001.0), (622, 1001.0), (543, 1002.0), (545, 1002.0), (849, 1002.0), (702, 1002.0), (382, 1002.0), (590, 1002.0), (924, 1002.0), (525, 1002.0), (885, 1002.0), (647, 1002.0), (830, 1003.0), (127, 1003.0), (121, 1003.0), (58, 1003.0), (613, 1003.0), (331, 1003.0), (582, 1003.0), (323, 1004.0), (292, 1004.0), (212, 1004.0), (210, 1004.0), (386, 1004.0), (340, 1005.0), (797, 1005.0), (902, 1005.0), (66, 1006.0), (672, 1006.0), (45, 1007.0), (208, 1007.0), (444, 1007.0), (580, 1007.0), (238, 1007.0), (703, 1008.0), (475, 1008.0), (403, 1008.0), (492, 1008.0), (744, 1008.0), (893, 1008.0), (438, 1008.0), (600, 1009.0), (882, 1009.0), (916, 1009.0), (527, 1009.0), (563, 1009.0), (203, 1009.0), (361, 1009.0), (562, 1009.0), (433, 1010.0), (876, 1010.0), (762, 1010.0), (227, 1010.0), (105, 1010.0), (926, 1010.0), (691, 1011.0), (817, 1011.0), (831, 1011.0), (560, 1011.0), (217, 1011.0), (498, 1012.0), (219, 1012.0), (30, 1012.0), (596, 1012.0), (586, 1012.0), (857, 1012.0), (476, 1012.0), (107, 1012.0), (5, 1013.0), (413, 1013.0), (768, 1013.0), (829, 1013.0), (725, 1013.0), (302, 1013.0), (50, 1013.0), (884, 1014.0), (874, 1014.0), (657, 1014.0), (792, 1015.0), (692, 1015.0), (651, 1015.0), (734, 1015.0), (268, 1015.0), (714, 1015.0), (375, 1015.0), (837, 1016.0), (257, 1016.0), (674, 1016.0), (478, 1016.0), (759, 1016.0), (903, 1016.0), (719, 1016.0), (578, 1016.0), (614, 1016.0), (664, 1016.0), (540, 1016.0), (858, 1016.0), (471, 1017.0), (78, 1017.0), (196, 1017.0), (685, 1017.0), (641, 1017.0), (204, 1017.0), (391, 1018.0), (839, 1018.0), (824, 1018.0), (139, 1018.0), (799, 1018.0), (607, 1018.0), (559, 1018.0), (609, 1019.0), (728, 1019.0), (205, 1019.0), (46, 1019.0), (418, 1020.0), (940, 1020.0), (154, 1020.0), (726, 1020.0), (517, 1020.0), (735, 1020.0), (74, 1020.0), (671, 1020.0), (866, 1020.0), (277, 1021.0), (900, 1021.0), (836, 1021.0), (14, 1021.0), (557, 1021.0), (635, 1021.0), (81, 1021.0), (169, 1021.0), (570, 1021.0), (443, 1021.0), (129, 1022.0), (123, 1022.0), (398, 1022.0), (832, 1022.0), (917, 1022.0), (228, 1022.0), (466, 1022.0), (569, 1022.0), (520, 1023.0), (243, 1023.0), (656, 1023.0), (509, 1023.0), (282, 1023.0), (740, 1024.0), (29, 1024.0), (470, 1024.0), (211, 1024.0), (654, 1024.0), (172, 1024.0), (550, 1025.0), (626, 1025.0), (482, 1025.0), (743, 1025.0), (865, 1025.0), (943, 1025.0), (86, 1025.0), (346, 1025.0), (420, 1026.0), (62, 1026.0), (877, 1026.0), (912, 1026.0), (263, 1026.0), (250, 1026.0), (61, 1026.0), (852, 1026.0), (565, 1027.0), (79, 1028.0), (873, 1028.0), (16, 1028.0), (316, 1028.0), (564, 1028.0), (158, 1028.0), (652, 1029.0), (118, 1029.0), (364, 1029.0), (687, 1029.0), (909, 1029.0), (133, 1029.0), (914, 1029.0), (253, 1030.0), (157, 1031.0), (709, 1031.0), (171, 1031.0), (556, 1031.0), (820, 1031.0), (597, 1031.0), (925, 1032.0), (225, 1032.0), (610, 1032.0), (818, 1033.0), (670, 1033.0), (414, 1033.0), (701, 1033.0), (640, 1033.0), (791, 1033.0), (278, 1034.0), (618, 1034.0), (233, 1034.0), (309, 1034.0), (819, 1034.0), (9, 1034.0), (905, 1035.0), (56, 1035.0), (821, 1035.0), (305, 1035.0), (809, 1035.0), (111, 1035.0), (813, 1035.0), (920, 1036.0), (729, 1036.0), (676, 1036.0), (353, 1036.0), (319, 1036.0), (140, 1036.0), (460, 1036.0), (455, 1036.0), (155, 1036.0), (40, 1037.0), (134, 1037.0), (176, 1037.0), (35, 1037.0), (220, 1037.0), (390, 1037.0), (300, 1037.0), (39, 1037.0), (631, 1038.0), (230, 1038.0), (365, 1038.0), (722, 1038.0), (432, 1038.0), (349, 1039.0), (790, 1039.0), (827, 1039.0), (485, 1039.0), (698, 1039.0), (335, 1040.0), (826, 1040.0), (665, 1040.0), (180, 1040.0), (229, 1040.0), (764, 1040.0), (732, 1040.0), (761, 1040.0), (317, 1040.0), (400, 1041.0), (842, 1041.0), (425, 1041.0), (815, 1041.0), (780, 1041.0), (890, 1041.0), (242, 1041.0), (906, 1042.0), (240, 1042.0), (160, 1042.0), (102, 1043.0), (47, 1043.0), (367, 1043.0), (166, 1043.0), (915, 1043.0), (431, 1043.0), (246, 1043.0), (147, 1044.0), (803, 1044.0), (598, 1044.0), (143, 1044.0), (911, 1045.0), (591, 1045.0), (366, 1045.0), (731, 1045.0), (812, 1046.0), (834, 1046.0), (4, 1046.0), (380, 1046.0), (273, 1046.0), (36, 1046.0), (31, 1047.0), (410, 1047.0), (241, 1047.0), (510, 1047.0), (34, 1047.0), (681, 1047.0), (52, 1047.0), (424, 1048.0), (63, 1048.0), (48, 1048.0), (878, 1048.0), (362, 1048.0), (705, 1049.0), (408, 1049.0), (546, 1050.0), (265, 1050.0), (149, 1050.0), (301, 1050.0), (754, 1051.0), (856, 1051.0), (146, 1051.0), (808, 1051.0), (845, 1051.0), (935, 1051.0), (544, 1051.0), (921, 1052.0), (296, 1052.0), (605, 1052.0), (304, 1052.0), (191, 1052.0), (619, 1052.0), (547, 1052.0), (356, 1052.0), (33, 1053.0), (254, 1053.0), (170, 1053.0), (898, 1053.0), (713, 1053.0), (861, 1054.0), (677, 1054.0), (668, 1054.0), (653, 1054.0), (54, 1054.0), (750, 1054.0), (84, 1054.0), (775, 1054.0), (776, 1054.0), (281, 1055.0), (75, 1055.0), (384, 1055.0), (113, 1056.0), (696, 1056.0), (258, 1056.0), (627, 1056.0), (615, 1056.0), (552, 1056.0), (358, 1057.0), (693, 1057.0), (260, 1057.0), (446, 1057.0), (347, 1057.0), (463, 1057.0), (344, 1057.0), (811, 1057.0), (770, 1057.0), (816, 1058.0), (503, 1059.0), (720, 1059.0), (101, 1060.0), (445, 1060.0), (221, 1060.0), (341, 1060.0), (397, 1060.0), (644, 1060.0), (675, 1062.0), (477, 1062.0), (57, 1063.0), (630, 1063.0), (122, 1063.0), (26, 1063.0), (88, 1063.0), (236, 1063.0), (628, 1063.0), (462, 1064.0), (901, 1064.0), (197, 1064.0), (434, 1065.0), (497, 1065.0), (469, 1065.0), (501, 1065.0), (448, 1065.0), (511, 1066.0), (325, 1066.0), (499, 1066.0), (235, 1066.0), (875, 1067.0), (449, 1067.0), (801, 1067.0), (574, 1068.0), (755, 1068.0), (82, 1068.0), (336, 1069.0), (355, 1070.0), (606, 1070.0), (274, 1070.0), (383, 1071.0), (404, 1071.0), (320, 1071.0), (502, 1071.0), (854, 1071.0), (464, 1072.0), (718, 1072.0), (526, 1072.0), (104, 1072.0), (783, 1072.0), (343, 1073.0), (261, 1073.0), (531, 1073.0), (255, 1073.0), (109, 1073.0), (264, 1074.0), (396, 1074.0), (853, 1074.0), (862, 1074.0), (673, 1074.0), (841, 1075.0), (695, 1075.0), (891, 1076.0), (190, 1076.0), (904, 1076.0), (864, 1076.0), (621, 1077.0), (338, 1078.0), (859, 1078.0), (2, 1078.0), (593, 1079.0), (733, 1080.0), (422, 1080.0), (646, 1080.0), (321, 1081.0), (515, 1082.0), (168, 1082.0), (536, 1083.0), (772, 1084.0), (931, 1085.0), (751, 1085.0), (388, 1085.0), (810, 1085.0), (207, 1085.0), (179, 1086.0), (298, 1086.0), (704, 1086.0), (348, 1086.0), (206, 1087.0), (167, 1087.0), (784, 1088.0), (871, 1088.0), (457, 1089.0), (91, 1089.0), (637, 1089.0), (379, 1090.0), (802, 1090.0), (835, 1091.0), (529, 1091.0), (518, 1092.0), (727, 1092.0), (195, 1092.0), (387, 1092.0), (339, 1093.0), (585, 1093.0), (6, 1093.0), (577, 1093.0), (144, 1095.0), (939, 1095.0), (452, 1095.0), (688, 1096.0), (523, 1096.0), (918, 1097.0), (568, 1097.0), (3, 1099.0), (766, 1099.0), (427, 1099.0), (934, 1100.0), (860, 1100.0), (194, 1100.0), (262, 1101.0), (372, 1102.0), (284, 1103.0), (401, 1103.0), (125, 1104.0), (330, 1105.0), (881, 1106.0), (897, 1107.0), (589, 1110.0), (616, 1110.0), (459, 1111.0), (15, 1111.0), (126, 1111.0), (639, 1112.0), (440, 1113.0), (611, 1113.0), (392, 1113.0), (487, 1114.0), (533, 1114.0), (694, 1114.0), (193, 1115.0), (173, 1115.0), (699, 1115.0), (363, 1116.0), (683, 1116.0), (828, 1118.0), (724, 1118.0), (295, 1119.0), (927, 1119.0), (42, 1120.0), (553, 1121.0), (49, 1121.0), (99, 1121.0), (244, 1121.0), (373, 1122.0), (100, 1123.0), (599, 1125.0), (87, 1126.0), (892, 1126.0), (95, 1126.0), (342, 1127.0), (938, 1127.0), (923, 1127.0), (787, 1129.0), (848, 1129.0), (112, 1130.0), (186, 1130.0), (423, 1131.0), (659, 1132.0), (189, 1132.0), (327, 1133.0), (617, 1133.0), (595, 1133.0), (83, 1134.0), (381, 1136.0), (697, 1136.0), (942, 1137.0), (500, 1138.0), (110, 1139.0), (567, 1139.0), (717, 1143.0), (889, 1144.0), (164, 1146.0), (357, 1146.0), (324, 1149.0), (608, 1149.0), (178, 1149.0), (351, 1151.0), (223, 1152.0), (805, 1152.0), (43, 1154.0), (428, 1154.0), (708, 1154.0), (456, 1156.0), (326, 1156.0), (541, 1156.0), (663, 1156.0), (872, 1158.0), (495, 1158.0), (833, 1160.0), (11, 1161.0), (519, 1162.0), (507, 1162.0), (534, 1162.0), (620, 1163.0), (896, 1163.0), (454, 1163.0), (239, 1164.0), (128, 1164.0), (650, 1165.0), (116, 1166.0), (721, 1166.0), (152, 1166.0), (174, 1166.0), (141, 1167.0), (92, 1167.0), (936, 1168.0), (345, 1168.0), (10, 1170.0), (435, 1171.0), (752, 1174.0), (648, 1174.0), (535, 1176.0), (840, 1177.0), (60, 1178.0), (666, 1178.0), (318, 1179.0), (159, 1181.0), (624, 1182.0), (458, 1183.0), (374, 1183.0), (409, 1185.0), (293, 1186.0), (224, 1186.0), (634, 1189.0), (426, 1191.0), (299, 1192.0), (506, 1193.0), (38, 1194.0), (271, 1194.0), (436, 1194.0), (270, 1198.0), (222, 1198.0), (313, 1200.0), (561, 1200.0), (451, 1202.0), (788, 1202.0), (437, 1204.0), (18, 1205.0), (870, 1205.0), (711, 1207.0), (887, 1209.0), (417, 1209.0), (587, 1211.0), (548, 1215.0), (354, 1216.0), (749, 1219.0), (919, 1223.0), (200, 1223.0), (682, 1224.0), (184, 1225.0), (119, 1225.0), (294, 1226.0), (21, 1230.0), (332, 1236.0), (486, 1237.0), (825, 1242.0), (863, 1254.0), (712, 1254.0), (883, 1254.0), (399, 1255.0), (588, 1258.0), (804, 1259.0), (716, 1260.0), (280, 1263.0), (334, 1264.0), (504, 1265.0), (201, 1280.0), (851, 1283.0), (328, 1283.0), (311, 1286.0), (269, 1288.0), (429, 1289.0), (85, 1291.0), (256, 1296.0), (807, 1298.0), (406, 1306.0), (932, 1306.0), (907, 1310.0), (385, 1312.0), (286, 1315.0), (524, 1325.0), (291, 1325.0), (472, 1330.0), (489, 1330.0), (880, 1341.0), (747, 1344.0), (707, 1347.0), (798, 1349.0), (378, 1352.0), (145, 1354.0), (151, 1359.0), (894, 1365.0), (592, 1371.0), (758, 1374.0), (389, 1376.0), (551, 1378.0), (474, 1387.0), (312, 1387.0), (181, 1389.0), (59, 1401.0), (94, 1401.0), (308, 1414.0), (796, 1419.0), (303, 1435.0), (537, 1478.0), (314, 1479.0), (782, 1491.0), (130, 1503.0), (532, 1507.0), (642, 1514.0), (90, 1515.0), (276, 1531.0), (846, 1537.0), (279, 1542.0), (234, 1569.0), (7, 1592.0), (405, 1652.0), (393, 1683.0), (416, 1776.0), (13, 1874.0), (450, 1921.0), (655, 1976.0)]\n"
     ]
    }
   ],
   "source": [
    "#it takes 32 seconds\n",
    "#comparate\n",
    "import pandas as pd\n",
    "import numpy as np\n",
    "from scipy.spatial.distance import cityblock\n",
    "\n",
    "def computeNearestNeighbor(dataframe, target_user, distance_metric=cityblock):\n",
    "    distances = np.zeros(len(dataframe))  # Inicializa un array NumPy\n",
    "    # Itera sobre cada fila (usuario) en el DataFrame\n",
    "    for i, (index, row) in enumerate(dataframe.iterrows()):\n",
    "        if index == target_user:\n",
    "            continue  # Omite el propio usuario objetivo\n",
    "        # Calcula la distancia entre el usuario objetivo y el usuario actual\n",
    "        distance = distance_metric(dataframe.loc[target_user].fillna(0), row.fillna(0))\n",
    "        distances[i] = distance\n",
    "    # Obtiene los índices que ordenarían el array y luego ordena las distancias y los índices de los usuarios en consecuencia\n",
    "    sorted_indices = np.argsort(distances)\n",
    "    sorted_distances = distances[sorted_indices]\n",
    "    return list(zip(dataframe.index[sorted_indices], sorted_distances))\n",
    "# Ejemplo de uso\n",
    "# Suponiendo que tu DataFrame se llama 'consolidated_df'\n",
    "target_user_id = 1\n",
    "neighbors = computeNearestNeighbor(consolidated_df, target_user_id)\n",
    "# Imprime los vecinos más cercanos y sus distancias\n",
    "print(\"Nearest Neighbors for User {}: {}\".format(target_user_id, neighbors))"
   ]
  },
  {
   "cell_type": "code",
   "execution_count": 15,
   "metadata": {},
   "outputs": [],
   "source": [
    "import numpy as np\n",
    "import pandas as pd\n",
    "import pika\n",
    "\n",
    "def movie_lens_to_binary_and_send(input_file, queue_name):\n",
    "    # Load MovieLens data using Pandas\n",
    "    ratings = pd.read_csv(input_file, sep='\\t', header=None,\n",
    "                          names=['userId', 'movieId', 'rating', 'rating_timestamp'])\n",
    "    \n",
    "    # Convert to NumPy array\n",
    "    np_data = np.array(ratings[['userId', 'movieId', 'rating']])\n",
    "    \n",
    "    # Establish a connection to RabbitMQ\n",
    "    connection = pika.BlockingConnection(pika.ConnectionParameters('localhost'))\n",
    "    channel = connection.channel()\n",
    "\n",
    "    # Declare a queue\n",
    "    channel.queue_declare(queue=queue_name)\n",
    "\n",
    "    # Send each row as a message to the queue\n",
    "    for row in np_data:\n",
    "        message = ','.join(map(str, row))\n",
    "        channel.basic_publish(exchange='', routing_key=queue_name, body=message)\n",
    "\n",
    "    # Close the connection\n",
    "    connection.close()\n",
    "\n",
    "# Example usage\n",
    "movie_lens_to_binary_and_send('u.data', 'movie_ratings_queue')\n"
   ]
  },
  {
   "cell_type": "code",
   "execution_count": 17,
   "metadata": {},
   "outputs": [
    {
     "name": "stdout",
     "output_type": "stream",
     "text": [
      "Waiting for messages. To exit, press CTRL+C\n"
     ]
    },
    {
     "ename": "KeyboardInterrupt",
     "evalue": "",
     "output_type": "error",
     "traceback": [
      "\u001b[1;31m---------------------------------------------------------------------------\u001b[0m",
      "\u001b[1;31mKeyboardInterrupt\u001b[0m                         Traceback (most recent call last)",
      "\u001b[1;32mc:\\Users\\Bartolomeo\\Documents\\python\\RabbitMQ\\ras.ipynb Celda 7\u001b[0m line \u001b[0;36m2\n\u001b[0;32m     <a href='vscode-notebook-cell:/c%3A/Users/Bartolomeo/Documents/python/RabbitMQ/ras.ipynb#X11sZmlsZQ%3D%3D?line=24'>25</a>\u001b[0m     channel\u001b[39m.\u001b[39mstart_consuming()\n\u001b[0;32m     <a href='vscode-notebook-cell:/c%3A/Users/Bartolomeo/Documents/python/RabbitMQ/ras.ipynb#X11sZmlsZQ%3D%3D?line=26'>27</a>\u001b[0m \u001b[39m# Example usage\u001b[39;00m\n\u001b[1;32m---> <a href='vscode-notebook-cell:/c%3A/Users/Bartolomeo/Documents/python/RabbitMQ/ras.ipynb#X11sZmlsZQ%3D%3D?line=27'>28</a>\u001b[0m receive_and_process_messages(\u001b[39m'\u001b[39;49m\u001b[39mmovie_ratings_queue\u001b[39;49m\u001b[39m'\u001b[39;49m, num_rows\u001b[39m=\u001b[39;49m\u001b[39m10\u001b[39;49m)\n",
      "\u001b[1;32mc:\\Users\\Bartolomeo\\Documents\\python\\RabbitMQ\\ras.ipynb Celda 7\u001b[0m line \u001b[0;36m2\n\u001b[0;32m     <a href='vscode-notebook-cell:/c%3A/Users/Bartolomeo/Documents/python/RabbitMQ/ras.ipynb#X11sZmlsZQ%3D%3D?line=22'>23</a>\u001b[0m \u001b[39m# Start consuming messages\u001b[39;00m\n\u001b[0;32m     <a href='vscode-notebook-cell:/c%3A/Users/Bartolomeo/Documents/python/RabbitMQ/ras.ipynb#X11sZmlsZQ%3D%3D?line=23'>24</a>\u001b[0m \u001b[39mprint\u001b[39m(\u001b[39mf\u001b[39m\u001b[39m\"\u001b[39m\u001b[39mWaiting for messages. To exit, press CTRL+C\u001b[39m\u001b[39m\"\u001b[39m)\n\u001b[1;32m---> <a href='vscode-notebook-cell:/c%3A/Users/Bartolomeo/Documents/python/RabbitMQ/ras.ipynb#X11sZmlsZQ%3D%3D?line=24'>25</a>\u001b[0m channel\u001b[39m.\u001b[39;49mstart_consuming()\n",
      "File \u001b[1;32mc:\\Python311\\Lib\\site-packages\\pika\\adapters\\blocking_connection.py:1883\u001b[0m, in \u001b[0;36mBlockingChannel.start_consuming\u001b[1;34m(self)\u001b[0m\n\u001b[0;32m   1880\u001b[0m \u001b[39m# Process events as long as consumers exist on this channel\u001b[39;00m\n\u001b[0;32m   1881\u001b[0m \u001b[39mwhile\u001b[39;00m \u001b[39mself\u001b[39m\u001b[39m.\u001b[39m_consumer_infos:\n\u001b[0;32m   1882\u001b[0m     \u001b[39m# This will raise ChannelClosed if channel is closed by broker\u001b[39;00m\n\u001b[1;32m-> 1883\u001b[0m     \u001b[39mself\u001b[39;49m\u001b[39m.\u001b[39;49m_process_data_events(time_limit\u001b[39m=\u001b[39;49m\u001b[39mNone\u001b[39;49;00m)\n",
      "File \u001b[1;32mc:\\Python311\\Lib\\site-packages\\pika\\adapters\\blocking_connection.py:2044\u001b[0m, in \u001b[0;36mBlockingChannel._process_data_events\u001b[1;34m(self, time_limit)\u001b[0m\n\u001b[0;32m   2025\u001b[0m \u001b[39mdef\u001b[39;00m \u001b[39m_process_data_events\u001b[39m(\u001b[39mself\u001b[39m, time_limit):\n\u001b[0;32m   2026\u001b[0m \u001b[39m    \u001b[39m\u001b[39m\"\"\"Wrapper for `BlockingConnection.process_data_events()` with common\u001b[39;00m\n\u001b[0;32m   2027\u001b[0m \u001b[39m    channel-specific logic that raises ChannelClosed if broker closed this\u001b[39;00m\n\u001b[0;32m   2028\u001b[0m \u001b[39m    channel.\u001b[39;00m\n\u001b[1;32m   (...)\u001b[0m\n\u001b[0;32m   2042\u001b[0m \n\u001b[0;32m   2043\u001b[0m \u001b[39m    \"\"\"\u001b[39;00m\n\u001b[1;32m-> 2044\u001b[0m     \u001b[39mself\u001b[39;49m\u001b[39m.\u001b[39;49mconnection\u001b[39m.\u001b[39;49mprocess_data_events(time_limit\u001b[39m=\u001b[39;49mtime_limit)\n\u001b[0;32m   2045\u001b[0m     \u001b[39mif\u001b[39;00m \u001b[39mself\u001b[39m\u001b[39m.\u001b[39mis_closed \u001b[39mand\u001b[39;00m \u001b[39misinstance\u001b[39m(\u001b[39mself\u001b[39m\u001b[39m.\u001b[39m_closing_reason,\n\u001b[0;32m   2046\u001b[0m                                      exceptions\u001b[39m.\u001b[39mChannelClosedByBroker):\n\u001b[0;32m   2047\u001b[0m         LOGGER\u001b[39m.\u001b[39mdebug(\u001b[39m'\u001b[39m\u001b[39mChannel close by broker detected, raising \u001b[39m\u001b[39m%r\u001b[39;00m\u001b[39m; \u001b[39m\u001b[39m%r\u001b[39;00m\u001b[39m'\u001b[39m,\n\u001b[0;32m   2048\u001b[0m                      \u001b[39mself\u001b[39m\u001b[39m.\u001b[39m_closing_reason, \u001b[39mself\u001b[39m)\n",
      "File \u001b[1;32mc:\\Python311\\Lib\\site-packages\\pika\\adapters\\blocking_connection.py:842\u001b[0m, in \u001b[0;36mBlockingConnection.process_data_events\u001b[1;34m(self, time_limit)\u001b[0m\n\u001b[0;32m    838\u001b[0m common_terminator \u001b[39m=\u001b[39m \u001b[39mlambda\u001b[39;00m: \u001b[39mbool\u001b[39m(dispatch_acquired \u001b[39mand\u001b[39;00m\n\u001b[0;32m    839\u001b[0m                                  (\u001b[39mself\u001b[39m\u001b[39m.\u001b[39m_channels_pending_dispatch \u001b[39mor\u001b[39;00m\n\u001b[0;32m    840\u001b[0m                                   \u001b[39mself\u001b[39m\u001b[39m.\u001b[39m_ready_events))\n\u001b[0;32m    841\u001b[0m \u001b[39mif\u001b[39;00m time_limit \u001b[39mis\u001b[39;00m \u001b[39mNone\u001b[39;00m:\n\u001b[1;32m--> 842\u001b[0m     \u001b[39mself\u001b[39;49m\u001b[39m.\u001b[39;49m_flush_output(common_terminator)\n\u001b[0;32m    843\u001b[0m \u001b[39melse\u001b[39;00m:\n\u001b[0;32m    844\u001b[0m     \u001b[39mwith\u001b[39;00m _IoloopTimerContext(time_limit, \u001b[39mself\u001b[39m\u001b[39m.\u001b[39m_impl) \u001b[39mas\u001b[39;00m timer:\n",
      "File \u001b[1;32mc:\\Python311\\Lib\\site-packages\\pika\\adapters\\blocking_connection.py:514\u001b[0m, in \u001b[0;36mBlockingConnection._flush_output\u001b[1;34m(self, *waiters)\u001b[0m\n\u001b[0;32m    512\u001b[0m \u001b[39m# Process I/O until our completion condition is satisfied\u001b[39;00m\n\u001b[0;32m    513\u001b[0m \u001b[39mwhile\u001b[39;00m \u001b[39mnot\u001b[39;00m is_done():\n\u001b[1;32m--> 514\u001b[0m     \u001b[39mself\u001b[39;49m\u001b[39m.\u001b[39;49m_impl\u001b[39m.\u001b[39;49mioloop\u001b[39m.\u001b[39;49mpoll()\n\u001b[0;32m    515\u001b[0m     \u001b[39mself\u001b[39m\u001b[39m.\u001b[39m_impl\u001b[39m.\u001b[39mioloop\u001b[39m.\u001b[39mprocess_timeouts()\n\u001b[0;32m    517\u001b[0m \u001b[39mif\u001b[39;00m \u001b[39mself\u001b[39m\u001b[39m.\u001b[39m_closed_result\u001b[39m.\u001b[39mready:\n",
      "File \u001b[1;32mc:\\Python311\\Lib\\site-packages\\pika\\adapters\\select_connection.py:579\u001b[0m, in \u001b[0;36mIOLoop.poll\u001b[1;34m(self)\u001b[0m\n\u001b[0;32m    572\u001b[0m \u001b[39mdef\u001b[39;00m \u001b[39mpoll\u001b[39m(\u001b[39mself\u001b[39m):\n\u001b[0;32m    573\u001b[0m \u001b[39m    \u001b[39m\u001b[39m\"\"\"[Extension] Wait for events of interest on registered file\u001b[39;00m\n\u001b[0;32m    574\u001b[0m \u001b[39m    descriptors until an event of interest occurs or next timer deadline or\u001b[39;00m\n\u001b[0;32m    575\u001b[0m \u001b[39m    `_PollerBase._MAX_POLL_TIMEOUT`, whichever is sooner, and dispatch the\u001b[39;00m\n\u001b[0;32m    576\u001b[0m \u001b[39m    corresponding event handlers.\u001b[39;00m\n\u001b[0;32m    577\u001b[0m \n\u001b[0;32m    578\u001b[0m \u001b[39m    \"\"\"\u001b[39;00m\n\u001b[1;32m--> 579\u001b[0m     \u001b[39mself\u001b[39;49m\u001b[39m.\u001b[39;49m_poller\u001b[39m.\u001b[39;49mpoll()\n",
      "File \u001b[1;32mc:\\Python311\\Lib\\site-packages\\pika\\adapters\\select_connection.py:953\u001b[0m, in \u001b[0;36mSelectPoller.poll\u001b[1;34m(self)\u001b[0m\n\u001b[0;32m    949\u001b[0m \u001b[39mtry\u001b[39;00m:\n\u001b[0;32m    950\u001b[0m     \u001b[39mif\u001b[39;00m (\u001b[39mself\u001b[39m\u001b[39m.\u001b[39m_fd_events[PollEvents\u001b[39m.\u001b[39mREAD] \u001b[39mor\u001b[39;00m\n\u001b[0;32m    951\u001b[0m             \u001b[39mself\u001b[39m\u001b[39m.\u001b[39m_fd_events[PollEvents\u001b[39m.\u001b[39mWRITE] \u001b[39mor\u001b[39;00m\n\u001b[0;32m    952\u001b[0m             \u001b[39mself\u001b[39m\u001b[39m.\u001b[39m_fd_events[PollEvents\u001b[39m.\u001b[39mERROR]):\n\u001b[1;32m--> 953\u001b[0m         read, write, error \u001b[39m=\u001b[39m select\u001b[39m.\u001b[39mselect(\n\u001b[0;32m    954\u001b[0m             \u001b[39mself\u001b[39m\u001b[39m.\u001b[39m_fd_events[PollEvents\u001b[39m.\u001b[39mREAD],\n\u001b[0;32m    955\u001b[0m             \u001b[39mself\u001b[39m\u001b[39m.\u001b[39m_fd_events[PollEvents\u001b[39m.\u001b[39mWRITE],\n\u001b[0;32m    956\u001b[0m             \u001b[39mself\u001b[39m\u001b[39m.\u001b[39m_fd_events[PollEvents\u001b[39m.\u001b[39mERROR], \u001b[39mself\u001b[39m\u001b[39m.\u001b[39m_get_max_wait())\n\u001b[0;32m    957\u001b[0m     \u001b[39melse\u001b[39;00m:\n\u001b[0;32m    958\u001b[0m         \u001b[39m# NOTE When called without any FDs, select fails on\u001b[39;00m\n\u001b[0;32m    959\u001b[0m         \u001b[39m# Windows with error 10022, 'An invalid argument was\u001b[39;00m\n\u001b[0;32m    960\u001b[0m         \u001b[39m# supplied'.\u001b[39;00m\n\u001b[0;32m    961\u001b[0m         time\u001b[39m.\u001b[39msleep(\u001b[39mself\u001b[39m\u001b[39m.\u001b[39m_get_max_wait())\n",
      "\u001b[1;31mKeyboardInterrupt\u001b[0m: "
     ]
    }
   ],
   "source": [
    "import numpy as np\n",
    "import pandas as pd\n",
    "import pika\n",
    "\n",
    "def receive_and_process_messages(queue_name, num_rows=10):\n",
    "    # Establish a connection to RabbitMQ\n",
    "    connection = pika.BlockingConnection(pika.ConnectionParameters('localhost'))\n",
    "    channel = connection.channel()\n",
    "\n",
    "    # Declare the queue\n",
    "    channel.queue_declare(queue=queue_name)\n",
    "\n",
    "    # Callback function to handle received messages\n",
    "    def callback(ch, method, properties, body):\n",
    "        data = np.fromstring(body.decode('utf-8'), dtype=np.int32, sep=',')\n",
    "        df = pd.DataFrame(data.reshape(-1, 3), columns=['userId', 'movieId', 'rating'])\n",
    "        print(\"Received data:\")\n",
    "        print(df.head(num_rows))\n",
    "\n",
    "    # Set up the consumer\n",
    "    channel.basic_consume(queue=queue_name, on_message_callback=callback, auto_ack=True)\n",
    "\n",
    "    # Start consuming messages\n",
    "    print(f\"Waiting for messages. To exit, press CTRL+C\")\n",
    "    channel.start_consuming()\n",
    "\n",
    "# Example usage\n",
    "receive_and_process_messages('movie_ratings_queue', num_rows=10)\n"
   ]
  }
 ],
 "metadata": {
  "kernelspec": {
   "display_name": "Python 3",
   "language": "python",
   "name": "python3"
  },
  "language_info": {
   "codemirror_mode": {
    "name": "ipython",
    "version": 3
   },
   "file_extension": ".py",
   "mimetype": "text/x-python",
   "name": "python",
   "nbconvert_exporter": "python",
   "pygments_lexer": "ipython3",
   "version": "3.11.5"
  }
 },
 "nbformat": 4,
 "nbformat_minor": 2
}

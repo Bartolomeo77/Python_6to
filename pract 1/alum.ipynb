{
 "cells": [
  {
   "cell_type": "code",
   "execution_count": 107,
   "metadata": {},
   "outputs": [
    {
     "data": {
      "text/html": [
       "<div>\n",
       "<style scoped>\n",
       "    .dataframe tbody tr th:only-of-type {\n",
       "        vertical-align: middle;\n",
       "    }\n",
       "\n",
       "    .dataframe tbody tr th {\n",
       "        vertical-align: top;\n",
       "    }\n",
       "\n",
       "    .dataframe thead th {\n",
       "        text-align: right;\n",
       "    }\n",
       "</style>\n",
       "<table border=\"1\" class=\"dataframe\">\n",
       "  <thead>\n",
       "    <tr style=\"text-align: right;\">\n",
       "      <th></th>\n",
       "      <th>FECHA_CORTE</th>\n",
       "      <th>UUID</th>\n",
       "      <th>UBIGEO</th>\n",
       "      <th>DEPARTAMENTO</th>\n",
       "      <th>PROVINCIA</th>\n",
       "      <th>DISTRITO</th>\n",
       "      <th>ANNIO</th>\n",
       "      <th>SEMESTRE</th>\n",
       "      <th>ESCUELA</th>\n",
       "      <th>CURSO</th>\n",
       "      <th>CREDITOS</th>\n",
       "      <th>CATEGORIA</th>\n",
       "      <th>NOTA</th>\n",
       "      <th>HT</th>\n",
       "      <th>HP</th>\n",
       "    </tr>\n",
       "  </thead>\n",
       "  <tbody>\n",
       "    <tr>\n",
       "      <th>0</th>\n",
       "      <td>20230627</td>\n",
       "      <td>a8b2e763fd65e490c5ad9986705fb39de605c2b2a8dde0...</td>\n",
       "      <td>80902</td>\n",
       "      <td>CUSCO</td>\n",
       "      <td>LA CONVENCIÓN</td>\n",
       "      <td>ECHARATE</td>\n",
       "      <td>2019</td>\n",
       "      <td>2019-II</td>\n",
       "      <td>ECOTURISMO</td>\n",
       "      <td>MATEMATICA I</td>\n",
       "      <td>4</td>\n",
       "      <td>OEG</td>\n",
       "      <td>14</td>\n",
       "      <td>3</td>\n",
       "      <td>2</td>\n",
       "    </tr>\n",
       "    <tr>\n",
       "      <th>1</th>\n",
       "      <td>20230627</td>\n",
       "      <td>a8b2e763fd65e490c5ad9986705fb39de605c2b2a8dde0...</td>\n",
       "      <td>80902</td>\n",
       "      <td>CUSCO</td>\n",
       "      <td>LA CONVENCIÓN</td>\n",
       "      <td>ECHARATE</td>\n",
       "      <td>2019</td>\n",
       "      <td>2019-II</td>\n",
       "      <td>ECOTURISMO</td>\n",
       "      <td>MATEMÁTICA I</td>\n",
       "      <td>4</td>\n",
       "      <td>O</td>\n",
       "      <td>14</td>\n",
       "      <td>3</td>\n",
       "      <td>2</td>\n",
       "    </tr>\n",
       "    <tr>\n",
       "      <th>2</th>\n",
       "      <td>20230627</td>\n",
       "      <td>e38ff9f9d08ffde9032f6d4de519abff157d74157965e9...</td>\n",
       "      <td>80902</td>\n",
       "      <td>CUSCO</td>\n",
       "      <td>LA CONVENCIÓN</td>\n",
       "      <td>ECHARATE</td>\n",
       "      <td>2019</td>\n",
       "      <td>2019-II</td>\n",
       "      <td>ECOTURISMO</td>\n",
       "      <td>MATEMATICA I</td>\n",
       "      <td>4</td>\n",
       "      <td>OEG</td>\n",
       "      <td>13</td>\n",
       "      <td>3</td>\n",
       "      <td>2</td>\n",
       "    </tr>\n",
       "    <tr>\n",
       "      <th>3</th>\n",
       "      <td>20230627</td>\n",
       "      <td>e38ff9f9d08ffde9032f6d4de519abff157d74157965e9...</td>\n",
       "      <td>80902</td>\n",
       "      <td>CUSCO</td>\n",
       "      <td>LA CONVENCIÓN</td>\n",
       "      <td>ECHARATE</td>\n",
       "      <td>2019</td>\n",
       "      <td>2019-II</td>\n",
       "      <td>ECOTURISMO</td>\n",
       "      <td>MATEMÁTICA I</td>\n",
       "      <td>4</td>\n",
       "      <td>O</td>\n",
       "      <td>13</td>\n",
       "      <td>3</td>\n",
       "      <td>2</td>\n",
       "    </tr>\n",
       "    <tr>\n",
       "      <th>4</th>\n",
       "      <td>20230627</td>\n",
       "      <td>de87435f94f91319774d5dc613c9779654e0810d34ac39...</td>\n",
       "      <td>80902</td>\n",
       "      <td>CUSCO</td>\n",
       "      <td>LA CONVENCIÓN</td>\n",
       "      <td>ECHARATE</td>\n",
       "      <td>2019</td>\n",
       "      <td>2019-II</td>\n",
       "      <td>ECOTURISMO</td>\n",
       "      <td>MATEMATICA I</td>\n",
       "      <td>4</td>\n",
       "      <td>OEG</td>\n",
       "      <td>13</td>\n",
       "      <td>3</td>\n",
       "      <td>2</td>\n",
       "    </tr>\n",
       "  </tbody>\n",
       "</table>\n",
       "</div>"
      ],
      "text/plain": [
       "   FECHA_CORTE                                               UUID  UBIGEO  \\\n",
       "0     20230627  a8b2e763fd65e490c5ad9986705fb39de605c2b2a8dde0...   80902   \n",
       "1     20230627  a8b2e763fd65e490c5ad9986705fb39de605c2b2a8dde0...   80902   \n",
       "2     20230627  e38ff9f9d08ffde9032f6d4de519abff157d74157965e9...   80902   \n",
       "3     20230627  e38ff9f9d08ffde9032f6d4de519abff157d74157965e9...   80902   \n",
       "4     20230627  de87435f94f91319774d5dc613c9779654e0810d34ac39...   80902   \n",
       "\n",
       "  DEPARTAMENTO      PROVINCIA  DISTRITO  ANNIO SEMESTRE     ESCUELA  \\\n",
       "0        CUSCO  LA CONVENCIÓN  ECHARATE   2019  2019-II  ECOTURISMO   \n",
       "1        CUSCO  LA CONVENCIÓN  ECHARATE   2019  2019-II  ECOTURISMO   \n",
       "2        CUSCO  LA CONVENCIÓN  ECHARATE   2019  2019-II  ECOTURISMO   \n",
       "3        CUSCO  LA CONVENCIÓN  ECHARATE   2019  2019-II  ECOTURISMO   \n",
       "4        CUSCO  LA CONVENCIÓN  ECHARATE   2019  2019-II  ECOTURISMO   \n",
       "\n",
       "          CURSO  CREDITOS CATEGORIA  NOTA  HT  HP  \n",
       "0  MATEMATICA I         4       OEG    14   3   2  \n",
       "1  MATEMÁTICA I         4         O    14   3   2  \n",
       "2  MATEMATICA I         4       OEG    13   3   2  \n",
       "3  MATEMÁTICA I         4         O    13   3   2  \n",
       "4  MATEMATICA I         4       OEG    13   3   2  "
      ]
     },
     "execution_count": 107,
     "metadata": {},
     "output_type": "execute_result"
    }
   ],
   "source": [
    "import numpy as np \n",
    "import pandas as pd \n",
    "data = pd.read_csv('LISTA_DE_CURSOS_DE_ALUMNOS_0.csv', sep=';', encoding='latin-1')\n",
    "data.head()"
   ]
  },
  {
   "cell_type": "code",
   "execution_count": 108,
   "metadata": {},
   "outputs": [
    {
     "data": {
      "text/plain": [
       "(22596, 15)"
      ]
     },
     "execution_count": 108,
     "metadata": {},
     "output_type": "execute_result"
    }
   ],
   "source": [
    "# (numero de filas, columnas)\n",
    "data.shape"
   ]
  },
  {
   "cell_type": "code",
   "execution_count": 109,
   "metadata": {},
   "outputs": [
    {
     "name": "stdout",
     "output_type": "stream",
     "text": [
      "<class 'pandas.core.frame.DataFrame'>\n",
      "RangeIndex: 22596 entries, 0 to 22595\n",
      "Data columns (total 15 columns):\n",
      " #   Column        Non-Null Count  Dtype \n",
      "---  ------        --------------  ----- \n",
      " 0   FECHA_CORTE   22596 non-null  int64 \n",
      " 1   UUID          22596 non-null  object\n",
      " 2   UBIGEO        22596 non-null  int64 \n",
      " 3   DEPARTAMENTO  22596 non-null  object\n",
      " 4   PROVINCIA     22596 non-null  object\n",
      " 5   DISTRITO      22596 non-null  object\n",
      " 6   ANNIO         22596 non-null  int64 \n",
      " 7   SEMESTRE      22596 non-null  object\n",
      " 8   ESCUELA       22596 non-null  object\n",
      " 9   CURSO         22596 non-null  object\n",
      " 10  CREDITOS      22596 non-null  int64 \n",
      " 11  CATEGORIA     22596 non-null  object\n",
      " 12  NOTA          22596 non-null  int64 \n",
      " 13  HT            22596 non-null  int64 \n",
      " 14  HP            22596 non-null  int64 \n",
      "dtypes: int64(7), object(8)\n",
      "memory usage: 2.6+ MB\n"
     ]
    }
   ],
   "source": [
    "data.info()"
   ]
  },
  {
   "cell_type": "code",
   "execution_count": 110,
   "metadata": {},
   "outputs": [
    {
     "data": {
      "text/html": [
       "<div>\n",
       "<style scoped>\n",
       "    .dataframe tbody tr th:only-of-type {\n",
       "        vertical-align: middle;\n",
       "    }\n",
       "\n",
       "    .dataframe tbody tr th {\n",
       "        vertical-align: top;\n",
       "    }\n",
       "\n",
       "    .dataframe thead th {\n",
       "        text-align: right;\n",
       "    }\n",
       "</style>\n",
       "<table border=\"1\" class=\"dataframe\">\n",
       "  <thead>\n",
       "    <tr style=\"text-align: right;\">\n",
       "      <th></th>\n",
       "      <th>FECHA_CORTE</th>\n",
       "      <th>UBIGEO</th>\n",
       "      <th>ANNIO</th>\n",
       "      <th>CREDITOS</th>\n",
       "      <th>NOTA</th>\n",
       "      <th>HT</th>\n",
       "      <th>HP</th>\n",
       "    </tr>\n",
       "  </thead>\n",
       "  <tbody>\n",
       "    <tr>\n",
       "      <th>count</th>\n",
       "      <td>22596.0</td>\n",
       "      <td>22596.000000</td>\n",
       "      <td>22596.000000</td>\n",
       "      <td>22596.000000</td>\n",
       "      <td>22596.000000</td>\n",
       "      <td>22596.000000</td>\n",
       "      <td>22596.000000</td>\n",
       "    </tr>\n",
       "    <tr>\n",
       "      <th>mean</th>\n",
       "      <td>20230627.0</td>\n",
       "      <td>82075.325456</td>\n",
       "      <td>2021.059391</td>\n",
       "      <td>3.429191</td>\n",
       "      <td>13.191804</td>\n",
       "      <td>2.422730</td>\n",
       "      <td>1.995973</td>\n",
       "    </tr>\n",
       "    <tr>\n",
       "      <th>std</th>\n",
       "      <td>0.0</td>\n",
       "      <td>15265.201599</td>\n",
       "      <td>0.954330</td>\n",
       "      <td>0.531283</td>\n",
       "      <td>4.612810</td>\n",
       "      <td>0.530382</td>\n",
       "      <td>0.136117</td>\n",
       "    </tr>\n",
       "    <tr>\n",
       "      <th>min</th>\n",
       "      <td>20230627.0</td>\n",
       "      <td>40102.000000</td>\n",
       "      <td>2019.000000</td>\n",
       "      <td>2.000000</td>\n",
       "      <td>0.000000</td>\n",
       "      <td>1.000000</td>\n",
       "      <td>0.000000</td>\n",
       "    </tr>\n",
       "    <tr>\n",
       "      <th>25%</th>\n",
       "      <td>20230627.0</td>\n",
       "      <td>80901.000000</td>\n",
       "      <td>2020.000000</td>\n",
       "      <td>3.000000</td>\n",
       "      <td>13.000000</td>\n",
       "      <td>2.000000</td>\n",
       "      <td>2.000000</td>\n",
       "    </tr>\n",
       "    <tr>\n",
       "      <th>50%</th>\n",
       "      <td>20230627.0</td>\n",
       "      <td>80901.000000</td>\n",
       "      <td>2021.000000</td>\n",
       "      <td>3.000000</td>\n",
       "      <td>14.000000</td>\n",
       "      <td>2.000000</td>\n",
       "      <td>2.000000</td>\n",
       "    </tr>\n",
       "    <tr>\n",
       "      <th>75%</th>\n",
       "      <td>20230627.0</td>\n",
       "      <td>80909.000000</td>\n",
       "      <td>2022.000000</td>\n",
       "      <td>4.000000</td>\n",
       "      <td>16.000000</td>\n",
       "      <td>3.000000</td>\n",
       "      <td>2.000000</td>\n",
       "    </tr>\n",
       "    <tr>\n",
       "      <th>max</th>\n",
       "      <td>20230627.0</td>\n",
       "      <td>250202.000000</td>\n",
       "      <td>2023.000000</td>\n",
       "      <td>4.000000</td>\n",
       "      <td>20.000000</td>\n",
       "      <td>3.000000</td>\n",
       "      <td>3.000000</td>\n",
       "    </tr>\n",
       "  </tbody>\n",
       "</table>\n",
       "</div>"
      ],
      "text/plain": [
       "       FECHA_CORTE         UBIGEO         ANNIO      CREDITOS          NOTA  \\\n",
       "count      22596.0   22596.000000  22596.000000  22596.000000  22596.000000   \n",
       "mean    20230627.0   82075.325456   2021.059391      3.429191     13.191804   \n",
       "std            0.0   15265.201599      0.954330      0.531283      4.612810   \n",
       "min     20230627.0   40102.000000   2019.000000      2.000000      0.000000   \n",
       "25%     20230627.0   80901.000000   2020.000000      3.000000     13.000000   \n",
       "50%     20230627.0   80901.000000   2021.000000      3.000000     14.000000   \n",
       "75%     20230627.0   80909.000000   2022.000000      4.000000     16.000000   \n",
       "max     20230627.0  250202.000000   2023.000000      4.000000     20.000000   \n",
       "\n",
       "                 HT            HP  \n",
       "count  22596.000000  22596.000000  \n",
       "mean       2.422730      1.995973  \n",
       "std        0.530382      0.136117  \n",
       "min        1.000000      0.000000  \n",
       "25%        2.000000      2.000000  \n",
       "50%        2.000000      2.000000  \n",
       "75%        3.000000      2.000000  \n",
       "max        3.000000      3.000000  "
      ]
     },
     "execution_count": 110,
     "metadata": {},
     "output_type": "execute_result"
    }
   ],
   "source": [
    "\n",
    "#count: El número de valores no nulos en la columna.\n",
    "#mean: La media (promedio) de los valores en la columna.\n",
    "#std: La desviación estándar, que mide la dispersión de los valores en la columna.\n",
    "#min: El valor mínimo en la columna.\n",
    "#25%: El primer cuartil, que representa el valor por debajo del cual se encuentra el 25% de los datos.\n",
    "#50%: La mediana, que representa el valor por debajo del cual se encuentra el 50% de los datos (también conocida como el segundo cuartil).\n",
    "#75%: El tercer cuartil, que representa el valor por debajo del cual se encuentra el 75% de los datos.\n",
    "#max: El valor máximo en la columna.\n",
    "data.describe()"
   ]
  },
  {
   "cell_type": "code",
   "execution_count": 14,
   "metadata": {},
   "outputs": [],
   "source": [
    "numeric_columns = data.select_dtypes(include = ['number'])\n",
    "\n",
    "for column in numeric_columns.columns:\n",
    "    data[column] = data[column].fillna(data[column].mean())"
   ]
  },
  {
   "cell_type": "code",
   "execution_count": 111,
   "metadata": {},
   "outputs": [
    {
     "name": "stdout",
     "output_type": "stream",
     "text": [
      "<class 'pandas.core.frame.DataFrame'>\n",
      "RangeIndex: 22596 entries, 0 to 22595\n",
      "Data columns (total 15 columns):\n",
      " #   Column        Non-Null Count  Dtype \n",
      "---  ------        --------------  ----- \n",
      " 0   FECHA_CORTE   22596 non-null  int64 \n",
      " 1   UUID          22596 non-null  object\n",
      " 2   UBIGEO        22596 non-null  int64 \n",
      " 3   DEPARTAMENTO  22596 non-null  object\n",
      " 4   PROVINCIA     22596 non-null  object\n",
      " 5   DISTRITO      22596 non-null  object\n",
      " 6   ANNIO         22596 non-null  int64 \n",
      " 7   SEMESTRE      22596 non-null  object\n",
      " 8   ESCUELA       22596 non-null  object\n",
      " 9   CURSO         22596 non-null  object\n",
      " 10  CREDITOS      22596 non-null  int64 \n",
      " 11  CATEGORIA     22596 non-null  object\n",
      " 12  NOTA          22596 non-null  int64 \n",
      " 13  HT            22596 non-null  int64 \n",
      " 14  HP            22596 non-null  int64 \n",
      "dtypes: int64(7), object(8)\n",
      "memory usage: 2.6+ MB\n"
     ]
    }
   ],
   "source": [
    "#El número total de filas (entradas) en el DataFrame.\n",
    "#El número de columnas en el DataFrame.\n",
    "#El nombre de cada columna.\n",
    "#La cantidad de valores no nulos en cada columna.\n",
    "#El tipo de datos de cada columna (por ejemplo, int64, float64, object, etc.).\n",
    "#La cantidad de memoria utilizada por el DataFrame.\n",
    "data.info()"
   ]
  },
  {
   "cell_type": "code",
   "execution_count": 112,
   "metadata": {},
   "outputs": [],
   "source": [
    "#biblioteca de visualización de datos\n",
    "\n",
    "import matplotlib.pyplot as plt\n",
    "import seaborn as sns"
   ]
  },
  {
   "cell_type": "code",
   "execution_count": 113,
   "metadata": {},
   "outputs": [
    {
     "name": "stderr",
     "output_type": "stream",
     "text": [
      "c:\\Users\\Bartolomeo\\AppData\\Local\\Programs\\Python\\Python311\\Lib\\site-packages\\seaborn\\_oldcore.py:1498: FutureWarning: is_categorical_dtype is deprecated and will be removed in a future version. Use isinstance(dtype, CategoricalDtype) instead\n",
      "  if pd.api.types.is_categorical_dtype(vector):\n",
      "c:\\Users\\Bartolomeo\\AppData\\Local\\Programs\\Python\\Python311\\Lib\\site-packages\\seaborn\\_oldcore.py:1119: FutureWarning: use_inf_as_na option is deprecated and will be removed in a future version. Convert inf values to NaN before operating instead.\n",
      "  with pd.option_context('mode.use_inf_as_na', True):\n"
     ]
    },
    {
     "data": {
      "text/plain": [
       "<Axes: xlabel='NOTA', ylabel='Count'>"
      ]
     },
     "execution_count": 113,
     "metadata": {},
     "output_type": "execute_result"
    },
    {
     "data": {
      "image/png": "[encoded data removed]",
      "text/plain": [
       "<Figure size 640x480 with 1 Axes>"
      ]
     },
     "metadata": {},
     "output_type": "display_data"
    }
   ],
   "source": [
    "#sns.histplot => Histograma\n",
    "#x=\"NOTA\" => columna del eje x\n",
    "#bins=50 => intervalos\n",
    "\n",
    "sns.histplot(data=data, x = \"NOTA\", bins = 50)\n"
   ]
  },
  {
   "cell_type": "code",
   "execution_count": 114,
   "metadata": {},
   "outputs": [
    {
     "name": "stderr",
     "output_type": "stream",
     "text": [
      "c:\\Users\\Bartolomeo\\AppData\\Local\\Programs\\Python\\Python311\\Lib\\site-packages\\seaborn\\_oldcore.py:1498: FutureWarning: is_categorical_dtype is deprecated and will be removed in a future version. Use isinstance(dtype, CategoricalDtype) instead\n",
      "  if pd.api.types.is_categorical_dtype(vector):\n"
     ]
    },
    {
     "data": {
      "image/png": "[encoded data removed]",
      "text/plain": [
       "<Figure size 1000x600 with 1 Axes>"
      ]
     },
     "metadata": {},
     "output_type": "display_data"
    }
   ],
   "source": [
    "plt.figure(figsize=(10,6))\n",
    "sns.boxplot(x = data[\"NOTA\"])\n",
    "plt.show()"
   ]
  },
  {
   "cell_type": "code",
   "execution_count": 115,
   "metadata": {},
   "outputs": [],
   "source": [
    "from scipy import stats"
   ]
  },
  {
   "cell_type": "code",
   "execution_count": 129,
   "metadata": {},
   "outputs": [
    {
     "data": {
      "text/plain": [
       "3.0"
      ]
     },
     "execution_count": 129,
     "metadata": {},
     "output_type": "execute_result"
    }
   ],
   "source": [
    "stats.iqr(data[\"NOTA\"])\n"
   ]
  },
  {
   "cell_type": "code",
   "execution_count": 117,
   "metadata": {},
   "outputs": [
    {
     "data": {
      "text/plain": [
       "(510, 15)"
      ]
     },
     "execution_count": 117,
     "metadata": {},
     "output_type": "execute_result"
    }
   ],
   "source": [
    "notas_mayores = data[data[\"NOTA\"] > 18]\n",
    "notas_mayores.shape"
   ]
  },
  {
   "cell_type": "code",
   "execution_count": 118,
   "metadata": {},
   "outputs": [
    {
     "data": {
      "text/plain": [
       "(5115, 15)"
      ]
     },
     "execution_count": 118,
     "metadata": {},
     "output_type": "execute_result"
    }
   ],
   "source": [
    "notas_mayores = data[data[\"NOTA\"] < 13]\n",
    "notas_mayores.shape"
   ]
  },
  {
   "cell_type": "code",
   "execution_count": 119,
   "metadata": {},
   "outputs": [
    {
     "data": {
      "text/plain": [
       "SEMESTRE\n",
       "2022-I     1651\n",
       "2021-I      879\n",
       "2022-II     811\n",
       "2020-II     536\n",
       "2021-II     529\n",
       "2019-II     353\n",
       "2020-I      282\n",
       "2020-0       74\n",
       "Name: count, dtype: int64"
      ]
     },
     "execution_count": 119,
     "metadata": {},
     "output_type": "execute_result"
    }
   ],
   "source": [
    "notas_mayores[\"SEMESTRE\"].value_counts()"
   ]
  },
  {
   "cell_type": "code",
   "execution_count": 120,
   "metadata": {},
   "outputs": [
    {
     "data": {
      "text/plain": [
       "SEMESTRE\n",
       "2022-I     1651\n",
       "2021-I      879\n",
       "2022-II     811\n",
       "2020-II     536\n",
       "2021-II     529\n",
       "Name: count, dtype: int64"
      ]
     },
     "execution_count": 120,
     "metadata": {},
     "output_type": "execute_result"
    }
   ],
   "source": [
    "notas_mayores[\"SEMESTRE\"].value_counts().head()"
   ]
  },
  {
   "cell_type": "code",
   "execution_count": 121,
   "metadata": {},
   "outputs": [],
   "source": [
    "#stá identificando las columnas que contienen texto en lugar de valores numéricos.\n",
    "text_columns = data.select_dtypes(include=['object'])"
   ]
  },
  {
   "cell_type": "code",
   "execution_count": 122,
   "metadata": {},
   "outputs": [
    {
     "data": {
      "text/plain": [
       "Index(['UUID', 'DEPARTAMENTO', 'PROVINCIA', 'DISTRITO', 'SEMESTRE', 'ESCUELA',\n",
       "       'CURSO', 'CATEGORIA'],\n",
       "      dtype='object')"
      ]
     },
     "execution_count": 122,
     "metadata": {},
     "output_type": "execute_result"
    }
   ],
   "source": [
    "# los nombres de las columnas en el DataFrame text_columns\n",
    "text_columns.columns"
   ]
  },
  {
   "cell_type": "code",
   "execution_count": 132,
   "metadata": {},
   "outputs": [
    {
     "name": "stdout",
     "output_type": "stream",
     "text": [
      "DEPARTAMENTO\n",
      "CUSCO       21930\n",
      "AYACUCHO      284\n",
      "LIMA          144\n",
      "UCAYALI        95\n",
      "PUNO           91\n",
      "Name: count, dtype: int64\n",
      "\n",
      "PROVINCIA\n",
      "LA CONVENCIÓN    20555\n",
      "CUSCO              416\n",
      "CANCHIS            282\n",
      "HUAMANGA           166\n",
      "LIMA               144\n",
      "Name: count, dtype: int64\n",
      "\n",
      "DISTRITO\n",
      "SANTA ANA     10331\n",
      "VILCABAMBA     3317\n",
      "ECHARATE       2474\n",
      "MEGANTONI      1466\n",
      "QUELLOUNO       833\n",
      "Name: count, dtype: int64\n",
      "\n",
      "SEMESTRE\n",
      "2022-I     5435\n",
      "2022-II    3852\n",
      "2021-I     3794\n",
      "2021-II    3037\n",
      "2020-II    2700\n",
      "Name: count, dtype: int64\n",
      "\n",
      "ESCUELA\n",
      "INGENIERIA DE ALIMENTOS           6998\n",
      "ECOTURISMO                        6092\n",
      "INGENIERIA AGRONOMICA TROPICAL    5980\n",
      "INGENIERIA CIVIL                  3526\n",
      "Name: count, dtype: int64\n",
      "\n",
      "CURSO\n",
      "INTERCULTURALIDAD Y DESARROLLO                   1184\n",
      "MATEMATICA I                                     1113\n",
      "MATEMATICA II                                    1037\n",
      "COMUNICACION Y REDACCION TECNICA Y CIENTIFICA     990\n",
      "REALIDAD NACIONAL Y DERECHOS HUMANOS              863\n",
      "Name: count, dtype: int64\n",
      "\n",
      "CATEGORIA\n",
      "O      8700\n",
      "OEG    7446\n",
      "OFB    5099\n",
      "OFE    1153\n",
      "EFE     198\n",
      "Name: count, dtype: int64\n",
      "\n"
     ]
    }
   ],
   "source": [
    "#evitar imprimir información detallada sobre la columna 'UUID'\n",
    "for column in text_columns.columns:\n",
    "    if column != 'UUID':\n",
    "        print(data[column].value_counts().head())\n",
    "        print()"
   ]
  },
  {
   "cell_type": "code",
   "execution_count": 135,
   "metadata": {},
   "outputs": [
    {
     "data": {
      "text/html": [
       "<div>\n",
       "<style scoped>\n",
       "    .dataframe tbody tr th:only-of-type {\n",
       "        vertical-align: middle;\n",
       "    }\n",
       "\n",
       "    .dataframe tbody tr th {\n",
       "        vertical-align: top;\n",
       "    }\n",
       "\n",
       "    .dataframe thead tr th {\n",
       "        text-align: left;\n",
       "    }\n",
       "\n",
       "    .dataframe thead tr:last-of-type th {\n",
       "        text-align: right;\n",
       "    }\n",
       "</style>\n",
       "<table border=\"1\" class=\"dataframe\">\n",
       "  <thead>\n",
       "    <tr>\n",
       "      <th></th>\n",
       "      <th colspan=\"3\" halign=\"left\">CREDITOS</th>\n",
       "      <th colspan=\"3\" halign=\"left\">NOTA</th>\n",
       "    </tr>\n",
       "    <tr>\n",
       "      <th></th>\n",
       "      <th>min</th>\n",
       "      <th>max</th>\n",
       "      <th>mean</th>\n",
       "      <th>min</th>\n",
       "      <th>max</th>\n",
       "      <th>mean</th>\n",
       "    </tr>\n",
       "    <tr>\n",
       "      <th>SEMESTRE</th>\n",
       "      <th></th>\n",
       "      <th></th>\n",
       "      <th></th>\n",
       "      <th></th>\n",
       "      <th></th>\n",
       "      <th></th>\n",
       "    </tr>\n",
       "  </thead>\n",
       "  <tbody>\n",
       "    <tr>\n",
       "      <th>2019-II</th>\n",
       "      <td>3</td>\n",
       "      <td>4</td>\n",
       "      <td>3.310692</td>\n",
       "      <td>0</td>\n",
       "      <td>20</td>\n",
       "      <td>12.991195</td>\n",
       "    </tr>\n",
       "    <tr>\n",
       "      <th>2020-0</th>\n",
       "      <td>3</td>\n",
       "      <td>4</td>\n",
       "      <td>3.225806</td>\n",
       "      <td>0</td>\n",
       "      <td>17</td>\n",
       "      <td>10.225806</td>\n",
       "    </tr>\n",
       "    <tr>\n",
       "      <th>2020-I</th>\n",
       "      <td>3</td>\n",
       "      <td>4</td>\n",
       "      <td>3.269578</td>\n",
       "      <td>0</td>\n",
       "      <td>20</td>\n",
       "      <td>14.419177</td>\n",
       "    </tr>\n",
       "    <tr>\n",
       "      <th>2020-II</th>\n",
       "      <td>2</td>\n",
       "      <td>4</td>\n",
       "      <td>3.419259</td>\n",
       "      <td>0</td>\n",
       "      <td>20</td>\n",
       "      <td>13.655926</td>\n",
       "    </tr>\n",
       "    <tr>\n",
       "      <th>2021-I</th>\n",
       "      <td>2</td>\n",
       "      <td>4</td>\n",
       "      <td>3.415129</td>\n",
       "      <td>0</td>\n",
       "      <td>20</td>\n",
       "      <td>13.419873</td>\n",
       "    </tr>\n",
       "    <tr>\n",
       "      <th>2021-II</th>\n",
       "      <td>2</td>\n",
       "      <td>4</td>\n",
       "      <td>3.462628</td>\n",
       "      <td>0</td>\n",
       "      <td>20</td>\n",
       "      <td>13.854791</td>\n",
       "    </tr>\n",
       "    <tr>\n",
       "      <th>2022-I</th>\n",
       "      <td>2</td>\n",
       "      <td>4</td>\n",
       "      <td>3.456118</td>\n",
       "      <td>0</td>\n",
       "      <td>20</td>\n",
       "      <td>12.069917</td>\n",
       "    </tr>\n",
       "    <tr>\n",
       "      <th>2022-II</th>\n",
       "      <td>2</td>\n",
       "      <td>4</td>\n",
       "      <td>3.524403</td>\n",
       "      <td>0</td>\n",
       "      <td>20</td>\n",
       "      <td>13.239097</td>\n",
       "    </tr>\n",
       "    <tr>\n",
       "      <th>2023-0</th>\n",
       "      <td>2</td>\n",
       "      <td>4</td>\n",
       "      <td>3.512195</td>\n",
       "      <td>14</td>\n",
       "      <td>18</td>\n",
       "      <td>16.048780</td>\n",
       "    </tr>\n",
       "  </tbody>\n",
       "</table>\n",
       "</div>"
      ],
      "text/plain": [
       "         CREDITOS               NOTA               \n",
       "              min max      mean  min max       mean\n",
       "SEMESTRE                                           \n",
       "2019-II         3   4  3.310692    0  20  12.991195\n",
       "2020-0          3   4  3.225806    0  17  10.225806\n",
       "2020-I          3   4  3.269578    0  20  14.419177\n",
       "2020-II         2   4  3.419259    0  20  13.655926\n",
       "2021-I          2   4  3.415129    0  20  13.419873\n",
       "2021-II         2   4  3.462628    0  20  13.854791\n",
       "2022-I          2   4  3.456118    0  20  12.069917\n",
       "2022-II         2   4  3.524403    0  20  13.239097\n",
       "2023-0          2   4  3.512195   14  18  16.048780"
      ]
     },
     "execution_count": 135,
     "metadata": {},
     "output_type": "execute_result"
    }
   ],
   "source": [
    "# Creamos una tabla\n",
    "data.groupby(\"SEMESTRE\")[[ \"CREDITOS\", \"NOTA\"]].agg([\"min\", \"max\", \"mean\"])"
   ]
  },
  {
   "cell_type": "code",
   "execution_count": 125,
   "metadata": {},
   "outputs": [
    {
     "data": {
      "text/html": [
       "<div>\n",
       "<style scoped>\n",
       "    .dataframe tbody tr th:only-of-type {\n",
       "        vertical-align: middle;\n",
       "    }\n",
       "\n",
       "    .dataframe tbody tr th {\n",
       "        vertical-align: top;\n",
       "    }\n",
       "\n",
       "    .dataframe thead th {\n",
       "        text-align: right;\n",
       "    }\n",
       "</style>\n",
       "<table border=\"1\" class=\"dataframe\">\n",
       "  <thead>\n",
       "    <tr style=\"text-align: right;\">\n",
       "      <th></th>\n",
       "      <th></th>\n",
       "      <th>min</th>\n",
       "      <th>max</th>\n",
       "      <th>mean</th>\n",
       "    </tr>\n",
       "    <tr>\n",
       "      <th>ANNIO</th>\n",
       "      <th>CURSO</th>\n",
       "      <th></th>\n",
       "      <th></th>\n",
       "      <th></th>\n",
       "    </tr>\n",
       "  </thead>\n",
       "  <tbody>\n",
       "    <tr>\n",
       "      <th rowspan=\"5\" valign=\"top\">2019</th>\n",
       "      <th>ECOLOGIA Y MEDIO AMBIENTE</th>\n",
       "      <td>0</td>\n",
       "      <td>17</td>\n",
       "      <td>11.333333</td>\n",
       "    </tr>\n",
       "    <tr>\n",
       "      <th>ECOLOGIA Y MEDIO AMBIENTE</th>\n",
       "      <td>0</td>\n",
       "      <td>19</td>\n",
       "      <td>12.369863</td>\n",
       "    </tr>\n",
       "    <tr>\n",
       "      <th>ECOLOGÍA Y MEDIO AMBIENTE</th>\n",
       "      <td>0</td>\n",
       "      <td>16</td>\n",
       "      <td>12.166667</td>\n",
       "    </tr>\n",
       "    <tr>\n",
       "      <th>ETNOLOGIA</th>\n",
       "      <td>0</td>\n",
       "      <td>18</td>\n",
       "      <td>13.165563</td>\n",
       "    </tr>\n",
       "    <tr>\n",
       "      <th>ETNOLOGÍA</th>\n",
       "      <td>0</td>\n",
       "      <td>19</td>\n",
       "      <td>11.763158</td>\n",
       "    </tr>\n",
       "    <tr>\n",
       "      <th>...</th>\n",
       "      <th>...</th>\n",
       "      <td>...</td>\n",
       "      <td>...</td>\n",
       "      <td>...</td>\n",
       "    </tr>\n",
       "    <tr>\n",
       "      <th rowspan=\"5\" valign=\"top\">2023</th>\n",
       "      <th>ANALISIS MATEMATICO II</th>\n",
       "      <td>14</td>\n",
       "      <td>18</td>\n",
       "      <td>15.833333</td>\n",
       "    </tr>\n",
       "    <tr>\n",
       "      <th>ARQUEOLOGIA GENERAL</th>\n",
       "      <td>15</td>\n",
       "      <td>17</td>\n",
       "      <td>16.125000</td>\n",
       "    </tr>\n",
       "    <tr>\n",
       "      <th>BOTANICA GENERAL</th>\n",
       "      <td>15</td>\n",
       "      <td>17</td>\n",
       "      <td>16.000000</td>\n",
       "    </tr>\n",
       "    <tr>\n",
       "      <th>DIBUJO</th>\n",
       "      <td>14</td>\n",
       "      <td>18</td>\n",
       "      <td>15.833333</td>\n",
       "    </tr>\n",
       "    <tr>\n",
       "      <th>OPERACIONES UNITARIAS I</th>\n",
       "      <td>17</td>\n",
       "      <td>17</td>\n",
       "      <td>17.000000</td>\n",
       "    </tr>\n",
       "  </tbody>\n",
       "</table>\n",
       "<p>323 rows × 3 columns</p>\n",
       "</div>"
      ],
      "text/plain": [
       "                                  min  max       mean\n",
       "ANNIO CURSO                                          \n",
       "2019  ECOLOGIA Y MEDIO AMBIENTE     0   17  11.333333\n",
       "      ECOLOGIA Y MEDIO AMBIENTE     0   19  12.369863\n",
       "      ECOLOGÍA Y MEDIO AMBIENTE     0   16  12.166667\n",
       "      ETNOLOGIA                     0   18  13.165563\n",
       "      ETNOLOGÍA                     0   19  11.763158\n",
       "...                               ...  ...        ...\n",
       "2023  ANALISIS MATEMATICO II       14   18  15.833333\n",
       "      ARQUEOLOGIA GENERAL          15   17  16.125000\n",
       "      BOTANICA GENERAL             15   17  16.000000\n",
       "      DIBUJO                       14   18  15.833333\n",
       "      OPERACIONES UNITARIAS I      17   17  17.000000\n",
       "\n",
       "[323 rows x 3 columns]"
      ]
     },
     "execution_count": 125,
     "metadata": {},
     "output_type": "execute_result"
    }
   ],
   "source": [
    "# Creamos una tabla y mejoramos los puntos a tener en cuenta\n",
    "data.groupby([\"ANNIO\",\"CURSO\"])['NOTA'].agg([\"min\", \"max\", \"mean\"])"
   ]
  },
  {
   "cell_type": "code",
   "execution_count": 138,
   "metadata": {},
   "outputs": [
    {
     "name": "stderr",
     "output_type": "stream",
     "text": [
      "c:\\Users\\Bartolomeo\\AppData\\Local\\Programs\\Python\\Python311\\Lib\\site-packages\\seaborn\\_oldcore.py:1498: FutureWarning: is_categorical_dtype is deprecated and will be removed in a future version. Use isinstance(dtype, CategoricalDtype) instead\n",
      "  if pd.api.types.is_categorical_dtype(vector):\n",
      "c:\\Users\\Bartolomeo\\AppData\\Local\\Programs\\Python\\Python311\\Lib\\site-packages\\seaborn\\_oldcore.py:1498: FutureWarning: is_categorical_dtype is deprecated and will be removed in a future version. Use isinstance(dtype, CategoricalDtype) instead\n",
      "  if pd.api.types.is_categorical_dtype(vector):\n",
      "c:\\Users\\Bartolomeo\\AppData\\Local\\Programs\\Python\\Python311\\Lib\\site-packages\\seaborn\\_oldcore.py:1498: FutureWarning: is_categorical_dtype is deprecated and will be removed in a future version. Use isinstance(dtype, CategoricalDtype) instead\n",
      "  if pd.api.types.is_categorical_dtype(vector):\n",
      "c:\\Users\\Bartolomeo\\AppData\\Local\\Programs\\Python\\Python311\\Lib\\site-packages\\seaborn\\_oldcore.py:1498: FutureWarning: is_categorical_dtype is deprecated and will be removed in a future version. Use isinstance(dtype, CategoricalDtype) instead\n",
      "  if pd.api.types.is_categorical_dtype(vector):\n",
      "c:\\Users\\Bartolomeo\\AppData\\Local\\Programs\\Python\\Python311\\Lib\\site-packages\\seaborn\\_oldcore.py:1119: FutureWarning: use_inf_as_na option is deprecated and will be removed in a future version. Convert inf values to NaN before operating instead.\n",
      "  with pd.option_context('mode.use_inf_as_na', True):\n"
     ]
    },
    {
     "data": {
      "text/plain": [
       "<Axes: xlabel='ANNIO', ylabel='Count'>"
      ]
     },
     "execution_count": 138,
     "metadata": {},
     "output_type": "execute_result"
    },
    {
     "data": {
      "image/png": "[encoded data removed]",
      "text/plain": [
       "<Figure size 640x480 with 1 Axes>"
      ]
     },
     "metadata": {},
     "output_type": "display_data"
    }
   ],
   "source": [
    "#eje x = años , los departamentos\n",
    "sns.histplot(data=data, x=\"ANNIO\", hue=\"CATEGORIA\", bins = 50)"
   ]
  },
  {
   "cell_type": "code",
   "execution_count": 127,
   "metadata": {},
   "outputs": [
    {
     "name": "stderr",
     "output_type": "stream",
     "text": [
      "c:\\Users\\Bartolomeo\\AppData\\Local\\Programs\\Python\\Python311\\Lib\\site-packages\\seaborn\\_oldcore.py:1498: FutureWarning: is_categorical_dtype is deprecated and will be removed in a future version. Use isinstance(dtype, CategoricalDtype) instead\n",
      "  if pd.api.types.is_categorical_dtype(vector):\n",
      "c:\\Users\\Bartolomeo\\AppData\\Local\\Programs\\Python\\Python311\\Lib\\site-packages\\seaborn\\_oldcore.py:1119: FutureWarning: use_inf_as_na option is deprecated and will be removed in a future version. Convert inf values to NaN before operating instead.\n",
      "  with pd.option_context('mode.use_inf_as_na', True):\n"
     ]
    },
    {
     "data": {
      "image/png": "[encoded data removed]",
      "text/plain": [
       "<Figure size 640x480 with 1 Axes>"
      ]
     },
     "metadata": {},
     "output_type": "display_data"
    },
    {
     "name": "stderr",
     "output_type": "stream",
     "text": [
      "c:\\Users\\Bartolomeo\\AppData\\Local\\Programs\\Python\\Python311\\Lib\\site-packages\\seaborn\\_oldcore.py:1498: FutureWarning: is_categorical_dtype is deprecated and will be removed in a future version. Use isinstance(dtype, CategoricalDtype) instead\n",
      "  if pd.api.types.is_categorical_dtype(vector):\n",
      "c:\\Users\\Bartolomeo\\AppData\\Local\\Programs\\Python\\Python311\\Lib\\site-packages\\seaborn\\_oldcore.py:1119: FutureWarning: use_inf_as_na option is deprecated and will be removed in a future version. Convert inf values to NaN before operating instead.\n",
      "  with pd.option_context('mode.use_inf_as_na', True):\n"
     ]
    },
    {
     "data": {
      "image/png": "[encoded data removed]",
      "text/plain": [
       "<Figure size 640x480 with 1 Axes>"
      ]
     },
     "metadata": {},
     "output_type": "display_data"
    },
    {
     "name": "stderr",
     "output_type": "stream",
     "text": [
      "c:\\Users\\Bartolomeo\\AppData\\Local\\Programs\\Python\\Python311\\Lib\\site-packages\\seaborn\\_oldcore.py:1498: FutureWarning: is_categorical_dtype is deprecated and will be removed in a future version. Use isinstance(dtype, CategoricalDtype) instead\n",
      "  if pd.api.types.is_categorical_dtype(vector):\n",
      "c:\\Users\\Bartolomeo\\AppData\\Local\\Programs\\Python\\Python311\\Lib\\site-packages\\seaborn\\_oldcore.py:1119: FutureWarning: use_inf_as_na option is deprecated and will be removed in a future version. Convert inf values to NaN before operating instead.\n",
      "  with pd.option_context('mode.use_inf_as_na', True):\n"
     ]
    },
    {
     "data": {
      "image/png": "[encoded data removed]",
      "text/plain": [
       "<Figure size 640x480 with 1 Axes>"
      ]
     },
     "metadata": {},
     "output_type": "display_data"
    },
    {
     "name": "stderr",
     "output_type": "stream",
     "text": [
      "c:\\Users\\Bartolomeo\\AppData\\Local\\Programs\\Python\\Python311\\Lib\\site-packages\\seaborn\\_oldcore.py:1498: FutureWarning: is_categorical_dtype is deprecated and will be removed in a future version. Use isinstance(dtype, CategoricalDtype) instead\n",
      "  if pd.api.types.is_categorical_dtype(vector):\n",
      "c:\\Users\\Bartolomeo\\AppData\\Local\\Programs\\Python\\Python311\\Lib\\site-packages\\seaborn\\_oldcore.py:1119: FutureWarning: use_inf_as_na option is deprecated and will be removed in a future version. Convert inf values to NaN before operating instead.\n",
      "  with pd.option_context('mode.use_inf_as_na', True):\n"
     ]
    },
    {
     "data": {
      "image/png": "[encoded data removed]",
      "text/plain": [
       "<Figure size 640x480 with 1 Axes>"
      ]
     },
     "metadata": {},
     "output_type": "display_data"
    },
    {
     "name": "stderr",
     "output_type": "stream",
     "text": [
      "c:\\Users\\Bartolomeo\\AppData\\Local\\Programs\\Python\\Python311\\Lib\\site-packages\\seaborn\\_oldcore.py:1498: FutureWarning: is_categorical_dtype is deprecated and will be removed in a future version. Use isinstance(dtype, CategoricalDtype) instead\n",
      "  if pd.api.types.is_categorical_dtype(vector):\n",
      "c:\\Users\\Bartolomeo\\AppData\\Local\\Programs\\Python\\Python311\\Lib\\site-packages\\seaborn\\_oldcore.py:1119: FutureWarning: use_inf_as_na option is deprecated and will be removed in a future version. Convert inf values to NaN before operating instead.\n",
      "  with pd.option_context('mode.use_inf_as_na', True):\n"
     ]
    },
    {
     "data": {
      "image/png": "[encoded data removed]",
      "text/plain": [
       "<Figure size 640x480 with 1 Axes>"
      ]
     },
     "metadata": {},
     "output_type": "display_data"
    },
    {
     "name": "stderr",
     "output_type": "stream",
     "text": [
      "c:\\Users\\Bartolomeo\\AppData\\Local\\Programs\\Python\\Python311\\Lib\\site-packages\\seaborn\\_oldcore.py:1498: FutureWarning: is_categorical_dtype is deprecated and will be removed in a future version. Use isinstance(dtype, CategoricalDtype) instead\n",
      "  if pd.api.types.is_categorical_dtype(vector):\n",
      "c:\\Users\\Bartolomeo\\AppData\\Local\\Programs\\Python\\Python311\\Lib\\site-packages\\seaborn\\_oldcore.py:1119: FutureWarning: use_inf_as_na option is deprecated and will be removed in a future version. Convert inf values to NaN before operating instead.\n",
      "  with pd.option_context('mode.use_inf_as_na', True):\n"
     ]
    },
    {
     "data": {
      "image/png": "[encoded data removed]",
      "text/plain": [
       "<Figure size 640x480 with 1 Axes>"
      ]
     },
     "metadata": {},
     "output_type": "display_data"
    }
   ],
   "source": [
    "#Multiples graficas por departamento y que en cada departamento la cantidad que tiene por año\n",
    "\n",
    "for value in data[\"DEPARTAMENTO\"].value_counts().index:\n",
    "    sns.histplot(data=data[data[\"DEPARTAMENTO\"] == value], x=\"ANNIO\", bins= 50)\n",
    "    plt.title(value)\n",
    "    plt.show()"
   ]
  },
  {
   "cell_type": "code",
   "execution_count": 139,
   "metadata": {},
   "outputs": [
    {
     "data": {
      "text/plain": [
       "<Axes: >"
      ]
     },
     "execution_count": 139,
     "metadata": {},
     "output_type": "execute_result"
    },
    {
     "data": {
      "image/png": "[encoded data removed]",
      "text/plain": [
       "<Figure size 640x480 with 2 Axes>"
      ]
     },
     "metadata": {},
     "output_type": "display_data"
    }
   ],
   "source": [
    "# Los valores de correlación se mostrarán en las celdas del mapa de calor,\n",
    "sns.heatmap(data[[\"NOTA\", \"HT\", \"HP\"]].corr(), annot=True, cmap='crest')"
   ]
  }
 ],
 "metadata": {
  "kernelspec": {
   "display_name": "Python 3",
   "language": "python",
   "name": "python3"
  },
  "language_info": {
   "codemirror_mode": {
    "name": "ipython",
    "version": 3
   },
   "file_extension": ".py",
   "mimetype": "text/x-python",
   "name": "python",
   "nbconvert_exporter": "python",
   "pygments_lexer": "ipython3",
   "version": "3.11.3"
  },
  "orig_nbformat": 4
 },
 "nbformat": 4,
 "nbformat_minor": 2
}

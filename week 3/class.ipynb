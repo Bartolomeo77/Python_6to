{
 "cells": [
  {
   "cell_type": "code",
   "execution_count": 19,
   "metadata": {},
   "outputs": [],
   "source": [
    "import pandas as pd\n",
    "import matplotlib.pyplot as plt \n",
    "import seaborn as sns\n",
    "import warnings as ws\n",
    "import numpy as np\n",
    "ws.filterwarnings(\"ignore\")"
   ]
  },
  {
   "cell_type": "code",
   "execution_count": 20,
   "metadata": {},
   "outputs": [
    {
     "data": {
      "text/html": [
       "<div>\n",
       "<style scoped>\n",
       "    .dataframe tbody tr th:only-of-type {\n",
       "        vertical-align: middle;\n",
       "    }\n",
       "\n",
       "    .dataframe tbody tr th {\n",
       "        vertical-align: top;\n",
       "    }\n",
       "\n",
       "    .dataframe thead th {\n",
       "        text-align: right;\n",
       "    }\n",
       "</style>\n",
       "<table border=\"1\" class=\"dataframe\">\n",
       "  <thead>\n",
       "    <tr style=\"text-align: right;\">\n",
       "      <th></th>\n",
       "      <th>battery</th>\n",
       "      <th>camera</th>\n",
       "      <th>display</th>\n",
       "      <th>memory</th>\n",
       "      <th>name</th>\n",
       "      <th>price</th>\n",
       "      <th>processor</th>\n",
       "      <th>rating</th>\n",
       "      <th>reviews</th>\n",
       "      <th>warranty</th>\n",
       "    </tr>\n",
       "  </thead>\n",
       "  <tbody>\n",
       "    <tr>\n",
       "      <th>0</th>\n",
       "      <td>5000 mAh Battery</td>\n",
       "      <td>12MP + 2MP | 8MP Front Camera</td>\n",
       "      <td>15.8 cm (6.22 inch) HD+ Display</td>\n",
       "      <td>4 GB RAM | 64 GB ROM | Expandable Upto 512 GB</td>\n",
       "      <td>Redmi 8 (Ruby Red, 64 GB)</td>\n",
       "      <td>9999</td>\n",
       "      <td>Qualcomm Snapdragon 439 Processor</td>\n",
       "      <td>4.4</td>\n",
       "      <td>55,078 Reviews</td>\n",
       "      <td>Brand Warranty of 1 Year Available for Mobile ...</td>\n",
       "    </tr>\n",
       "    <tr>\n",
       "      <th>1</th>\n",
       "      <td>5000 mAh Battery</td>\n",
       "      <td>12MP + 8MP + 2MP + 2MP | 8MP Front Camera</td>\n",
       "      <td>16.56 cm (6.52 inch) HD+ Display</td>\n",
       "      <td>4 GB RAM | 64 GB ROM</td>\n",
       "      <td>Realme 5i (Aqua Blue, 64 GB)</td>\n",
       "      <td>10999</td>\n",
       "      <td>Qualcomm Snapdragon 665 2 GHz Processor</td>\n",
       "      <td>4.5</td>\n",
       "      <td>20,062 Reviews</td>\n",
       "      <td>Sunrise Design</td>\n",
       "    </tr>\n",
       "    <tr>\n",
       "      <th>2</th>\n",
       "      <td>5000 mAh Battery</td>\n",
       "      <td>12MP + 8MP + 2MP + 2MP | 8MP Front Camera</td>\n",
       "      <td>16.56 cm (6.52 inch) HD+ Display</td>\n",
       "      <td>4 GB RAM | 128 GB ROM</td>\n",
       "      <td>Realme 5i (Aqua Blue, 128 GB)</td>\n",
       "      <td>11999</td>\n",
       "      <td>Qualcomm Snapdragon 665 (2 GHz) Processor</td>\n",
       "      <td>4.5</td>\n",
       "      <td>20,062 Reviews</td>\n",
       "      <td>Sunrise Design</td>\n",
       "    </tr>\n",
       "    <tr>\n",
       "      <th>3</th>\n",
       "      <td>5000 mAh Battery</td>\n",
       "      <td>12MP + 8MP + 2MP + 2MP | 8MP Front Camera</td>\n",
       "      <td>16.56 cm (6.52 inch) HD+ Display</td>\n",
       "      <td>4 GB RAM | 128 GB ROM</td>\n",
       "      <td>Realme 5i (Forest Green, 128 GB)</td>\n",
       "      <td>11999</td>\n",
       "      <td>Qualcomm Snapdragon 665 (2 GHz) Processor</td>\n",
       "      <td>4.5</td>\n",
       "      <td>20,062 Reviews</td>\n",
       "      <td>Sunrise Design</td>\n",
       "    </tr>\n",
       "    <tr>\n",
       "      <th>4</th>\n",
       "      <td>4000 mAh Battery</td>\n",
       "      <td>13MP + 2MP | 5MP Front Camera</td>\n",
       "      <td>15.49 cm (6.1 inch) HD+ Display</td>\n",
       "      <td>3 GB RAM | 32 GB ROM | Expandable Upto 256 GB</td>\n",
       "      <td>Realme C2 (Diamond Blue, 32 GB)</td>\n",
       "      <td>7499</td>\n",
       "      <td>MediaTek P22 Octa Core 2.0 GHz Processor</td>\n",
       "      <td>4.4</td>\n",
       "      <td>10,091 Reviews</td>\n",
       "      <td>Dual Nano SIM slots and Memory Card Slot</td>\n",
       "    </tr>\n",
       "  </tbody>\n",
       "</table>\n",
       "</div>"
      ],
      "text/plain": [
       "            battery                                     camera  \\\n",
       "0  5000 mAh Battery              12MP + 2MP | 8MP Front Camera   \n",
       "1  5000 mAh Battery  12MP + 8MP + 2MP + 2MP | 8MP Front Camera   \n",
       "2  5000 mAh Battery  12MP + 8MP + 2MP + 2MP | 8MP Front Camera   \n",
       "3  5000 mAh Battery  12MP + 8MP + 2MP + 2MP | 8MP Front Camera   \n",
       "4  4000 mAh Battery              13MP + 2MP | 5MP Front Camera   \n",
       "\n",
       "                            display  \\\n",
       "0   15.8 cm (6.22 inch) HD+ Display   \n",
       "1  16.56 cm (6.52 inch) HD+ Display   \n",
       "2  16.56 cm (6.52 inch) HD+ Display   \n",
       "3  16.56 cm (6.52 inch) HD+ Display   \n",
       "4   15.49 cm (6.1 inch) HD+ Display   \n",
       "\n",
       "                                          memory  \\\n",
       "0  4 GB RAM | 64 GB ROM | Expandable Upto 512 GB   \n",
       "1                           4 GB RAM | 64 GB ROM   \n",
       "2                          4 GB RAM | 128 GB ROM   \n",
       "3                          4 GB RAM | 128 GB ROM   \n",
       "4  3 GB RAM | 32 GB ROM | Expandable Upto 256 GB   \n",
       "\n",
       "                               name  price  \\\n",
       "0         Redmi 8 (Ruby Red, 64 GB)   9999   \n",
       "1      Realme 5i (Aqua Blue, 64 GB)  10999   \n",
       "2     Realme 5i (Aqua Blue, 128 GB)  11999   \n",
       "3  Realme 5i (Forest Green, 128 GB)  11999   \n",
       "4   Realme C2 (Diamond Blue, 32 GB)   7499   \n",
       "\n",
       "                                   processor  rating         reviews  \\\n",
       "0          Qualcomm Snapdragon 439 Processor     4.4  55,078 Reviews   \n",
       "1    Qualcomm Snapdragon 665 2 GHz Processor     4.5  20,062 Reviews   \n",
       "2  Qualcomm Snapdragon 665 (2 GHz) Processor     4.5  20,062 Reviews   \n",
       "3  Qualcomm Snapdragon 665 (2 GHz) Processor     4.5  20,062 Reviews   \n",
       "4   MediaTek P22 Octa Core 2.0 GHz Processor     4.4  10,091 Reviews   \n",
       "\n",
       "                                            warranty  \n",
       "0  Brand Warranty of 1 Year Available for Mobile ...  \n",
       "1                                     Sunrise Design  \n",
       "2                                     Sunrise Design  \n",
       "3                                     Sunrise Design  \n",
       "4           Dual Nano SIM slots and Memory Card Slot  "
      ]
     },
     "execution_count": 20,
     "metadata": {},
     "output_type": "execute_result"
    }
   ],
   "source": [
    "data=pd.read_csv('mobiles1.csv')\n",
    "data.head()"
   ]
  },
  {
   "cell_type": "code",
   "execution_count": 21,
   "metadata": {},
   "outputs": [
    {
     "data": {
      "text/plain": [
       "battery        0\n",
       "camera         0\n",
       "display        0\n",
       "memory         0\n",
       "name           0\n",
       "price          0\n",
       "processor      1\n",
       "rating        13\n",
       "reviews       13\n",
       "warranty     148\n",
       "dtype: int64"
      ]
     },
     "execution_count": 21,
     "metadata": {},
     "output_type": "execute_result"
    }
   ],
   "source": [
    "# Numero de datos faltantes\n",
    "data.isnull().sum()"
   ]
  },
  {
   "cell_type": "code",
   "execution_count": 22,
   "metadata": {},
   "outputs": [
    {
     "name": "stdout",
     "output_type": "stream",
     "text": [
      "processor\n",
      "Qualcomm Snapdragon 730G Processor                                                                                                                 21\n",
      "1 year manufacturer warranty for device and 6 months manufacturer warranty for in-box accessories including batteries from the date of purchase    20\n",
      "Qualcomm Snapdragon 439 Processor                                                                                                                  18\n",
      "MediaTek Helio G90T Processor                                                                                                                      18\n",
      "Qualcomm Snapdragon 665 Processor                                                                                                                  18\n",
      "                                                                                                                                                   ..\n",
      "MTK MT6739 Processor                                                                                                                                1\n",
      "MT6761 Processor                                                                                                                                    1\n",
      "MT8735A A53 Processor                                                                                                                               1\n",
      "MediaTek MT6755 Helio P10 Octa Core 2.0GHz Processor                                                                                                1\n",
      "MTK 6592M Processor                                                                                                                                 1\n",
      "Name: count, Length: 287, dtype: int64\n"
     ]
    }
   ],
   "source": [
    "#Completar los valores faltantes \n",
    "print(data['processor'].value_counts())\n",
    "data['processor'].fillna('Qualcomm Snapdragon 730G Processor',inplace=True)"
   ]
  },
  {
   "cell_type": "code",
   "execution_count": 23,
   "metadata": {},
   "outputs": [
    {
     "name": "stdout",
     "output_type": "stream",
     "text": [
      "rating\n",
      "4.4    244\n",
      "4.5    187\n",
      "4.3    162\n",
      "4.2     81\n",
      "4.1     81\n",
      "4.0     36\n",
      "3.9     34\n",
      "3.8     31\n",
      "4.6     26\n",
      "3.6     24\n",
      "3.7     21\n",
      "3.5     15\n",
      "3.2      7\n",
      "3.4      6\n",
      "4.7      4\n",
      "3.3      3\n",
      "4.8      2\n",
      "3.1      2\n",
      "4.9      1\n",
      "2.8      1\n",
      "2.7      1\n",
      "2.9      1\n",
      "3.0      1\n",
      "Name: count, dtype: int64\n"
     ]
    }
   ],
   "source": [
    "print(data['rating'].value_counts())\n",
    "data['rating'].fillna(4.4,inplace=True)"
   ]
  },
  {
   "cell_type": "code",
   "execution_count": 25,
   "metadata": {},
   "outputs": [
    {
     "name": "stdout",
     "output_type": "stream",
     "text": [
      "reviews\n",
      "1 Reviews         10\n",
      "3 Reviews         10\n",
      "31 Reviews         9\n",
      "8 Reviews          9\n",
      "10,091 Reviews     8\n",
      "                  ..\n",
      "599 Reviews        1\n",
      "51 Reviews         1\n",
      "900 Reviews        1\n",
      "391 Reviews        1\n",
      "81 Reviews         1\n",
      "Name: count, Length: 386, dtype: int64\n"
     ]
    }
   ],
   "source": [
    "print(data['reviews'].value_counts())\n",
    "data['reviews'].fillna('1 Reviews',inplace=True)\n"
   ]
  }
 ],
 "metadata": {
  "kernelspec": {
   "display_name": "Python 3",
   "language": "python",
   "name": "python3"
  },
  "language_info": {
   "codemirror_mode": {
    "name": "ipython",
    "version": 3
   },
   "file_extension": ".py",
   "mimetype": "text/x-python",
   "name": "python",
   "nbconvert_exporter": "python",
   "pygments_lexer": "ipython3",
   "version": "3.11.5"
  },
  "orig_nbformat": 4
 },
 "nbformat": 4,
 "nbformat_minor": 2
}

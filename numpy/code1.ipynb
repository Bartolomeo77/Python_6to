{
 "cells": [
  {
   "cell_type": "code",
   "execution_count": 10,
   "metadata": {},
   "outputs": [
    {
     "name": "stdout",
     "output_type": "stream",
     "text": [
      "[1 2 3 4 5 6 7 8 9]\n",
      "2\n",
      "[1, 2, 3, 4, 5, 6]\n",
      "2\n"
     ]
    }
   ],
   "source": [
    "import numpy as np\n",
    "\n",
    "arreglo = np.array([1,2,3,4,5,6])\n",
    "arreglo2 = np.arange(1,10)\n",
    "arreglo3 = [1,2,3,4,5,6]\n",
    "print(arreglo2)\n",
    "print(arreglo2[1])\n",
    "print(arreglo3)\n",
    "print(arreglo3[1])\n"
   ]
  },
  {
   "cell_type": "code",
   "execution_count": 11,
   "metadata": {},
   "outputs": [
    {
     "name": "stdout",
     "output_type": "stream",
     "text": [
      "[1 2 3 4 5 6 7 8 9]\n",
      "2\n",
      "[  1 100   3   4   5   6   7   8   9]\n",
      "*----\n",
      "[1, 2, 3, 4, 5, 6]\n",
      "2\n",
      "[1, 100, 3, 4, 5, 6]\n"
     ]
    }
   ],
   "source": [
    "print(arreglo2)\n",
    "print(arreglo2[1])\n",
    "arreglo2[1] = 100\n",
    "print(arreglo2)\n",
    "print('*----')\n",
    "print(arreglo3)\n",
    "print(arreglo3[1])\n",
    "arreglo3[1] = 100\n",
    "print(arreglo3)"
   ]
  },
  {
   "cell_type": "code",
   "execution_count": 27,
   "metadata": {},
   "outputs": [
    {
     "name": "stdout",
     "output_type": "stream",
     "text": [
      "[1 2 3 4]\n",
      "--\n",
      "[[1 2]\n",
      " [3 4]]\n",
      "--\n",
      "[[[1 2]\n",
      "  [3 4]]\n",
      "\n",
      " [[5 6]\n",
      "  [7 8]]]\n"
     ]
    }
   ],
   "source": [
    "a1D = np.array([1, 2, 3, 4])\n",
    "print(a1D)\n",
    "print(\"--\")\n",
    "a2D = np.array([[1, 2], [3, 4]])\n",
    "print(a2D)\n",
    "print(\"--\")\n",
    "a3D = np.array([[[1, 2], [3, 4]], [[5, 6], [7, 8]]])\n",
    "print(a3D)"
   ]
  },
  {
   "cell_type": "code",
   "execution_count": 30,
   "metadata": {},
   "outputs": [
    {
     "data": {
      "text/plain": [
       "array([[[1, 2],\n",
       "        [3, 4]],\n",
       "\n",
       "       [[5, 6],\n",
       "        [7, 8]]])"
      ]
     },
     "execution_count": 30,
     "metadata": {},
     "output_type": "execute_result"
    }
   ],
   "source": [
    "a3D = np.array([[[1, 2], [3, 4]], [[5, 6], [7, 8]]])\n",
    "\"\"\" \n",
    "[[[1 2]\n",
    "  [3 4]]\n",
    "\n",
    " [[5 6]\n",
    "  [7 8]]]\n",
    " \"\"\"\n",
    "a3D"
   ]
  },
  {
   "cell_type": "code",
   "execution_count": 44,
   "metadata": {},
   "outputs": [
    {
     "name": "stdout",
     "output_type": "stream",
     "text": [
      "int32\n",
      "int32\n",
      "[128 130 132]\n"
     ]
    }
   ],
   "source": [
    "a = np.array([1, 2, 3])\n",
    "print(a.dtype)\n",
    "b = np.array([127, 128, 129])\n",
    "print(b.dtype)\n",
    "\n",
    "c = a + b\n",
    "\n",
    "print(c)"
   ]
  },
  {
   "cell_type": "code",
   "execution_count": 57,
   "metadata": {},
   "outputs": [
    {
     "name": "stdout",
     "output_type": "stream",
     "text": [
      "int32\n",
      "int32\n"
     ]
    },
    {
     "ename": "ValueError",
     "evalue": "operands could not be broadcast together with shapes (3,) (2,4) ",
     "output_type": "error",
     "traceback": [
      "\u001b[1;31m---------------------------------------------------------------------------\u001b[0m",
      "\u001b[1;31mValueError\u001b[0m                                Traceback (most recent call last)",
      "\u001b[1;32mc:\\Users\\Bartolomeo\\Documents\\Practicas\\Python\\Python_6to\\numpy\\code1.ipynb Celda 6\u001b[0m line \u001b[0;36m8\n\u001b[0;32m      <a href='vscode-notebook-cell:/c%3A/Users/Bartolomeo/Documents/Practicas/Python/Python_6to/numpy/code1.ipynb#W6sZmlsZQ%3D%3D?line=4'>5</a>\u001b[0m \u001b[39mprint\u001b[39m(a\u001b[39m.\u001b[39mdtype)\n\u001b[0;32m      <a href='vscode-notebook-cell:/c%3A/Users/Bartolomeo/Documents/Practicas/Python/Python_6to/numpy/code1.ipynb#W6sZmlsZQ%3D%3D?line=5'>6</a>\u001b[0m \u001b[39mprint\u001b[39m(a2D\u001b[39m.\u001b[39mdtype)\n\u001b[1;32m----> <a href='vscode-notebook-cell:/c%3A/Users/Bartolomeo/Documents/Practicas/Python/Python_6to/numpy/code1.ipynb#W6sZmlsZQ%3D%3D?line=7'>8</a>\u001b[0m c \u001b[39m=\u001b[39m a \u001b[39m+\u001b[39;49m a2D\n\u001b[0;32m     <a href='vscode-notebook-cell:/c%3A/Users/Bartolomeo/Documents/Practicas/Python/Python_6to/numpy/code1.ipynb#W6sZmlsZQ%3D%3D?line=9'>10</a>\u001b[0m \u001b[39mprint\u001b[39m(c)\n",
      "\u001b[1;31mValueError\u001b[0m: operands could not be broadcast together with shapes (3,) (2,4) "
     ]
    }
   ],
   "source": [
    "import numpy as np\n",
    "\n",
    "a = np.array([1, 2, 3])\n",
    "a2D = np.array([[1, 2, 3, 4], [5, 6, 7, 8]])\n",
    "print(a.dtype)\n",
    "print(a2D.dtype)\n",
    "\n",
    "c = a + a2D\n",
    "\n",
    "print(c)\n"
   ]
  },
  {
   "cell_type": "code",
   "execution_count": 74,
   "metadata": {},
   "outputs": [
    {
     "data": {
      "text/plain": [
       "array([[0, 1],\n",
       "       [2, 3],\n",
       "       [4, 5]])"
      ]
     },
     "execution_count": 74,
     "metadata": {},
     "output_type": "execute_result"
    }
   ],
   "source": [
    "import numpy as np\n",
    "\n",
    "a = np.array([1, 2, 3])\n",
    "a2D = np.array([[1, 2, 3, 4], [5, 6, 7, 8]])\n",
    "\n",
    "\n",
    "# Reshape \n",
    "a2 = np.arange(6).reshape((3, 2))\n",
    "a2\n",
    "\n"
   ]
  },
  {
   "cell_type": "code",
   "execution_count": 47,
   "metadata": {},
   "outputs": [
    {
     "name": "stdout",
     "output_type": "stream",
     "text": [
      "int32\n",
      "int32\n",
      "[[128 128 129]\n",
      " [127 130 129]\n",
      " [127 128 132]]\n"
     ]
    }
   ],
   "source": [
    "a = np.diag([1, 2, 3])\n",
    "print(a.dtype)\n",
    "b = np.array([127, 128, 129])\n",
    "print(b.dtype)\n",
    "\n",
    "c = a + b\n",
    "\n",
    "print(c)"
   ]
  }
 ],
 "metadata": {
  "kernelspec": {
   "display_name": "Python 3",
   "language": "python",
   "name": "python3"
  },
  "language_info": {
   "codemirror_mode": {
    "name": "ipython",
    "version": 3
   },
   "file_extension": ".py",
   "mimetype": "text/x-python",
   "name": "python",
   "nbconvert_exporter": "python",
   "pygments_lexer": "ipython3",
   "version": "3.11.3"
  }
 },
 "nbformat": 4,
 "nbformat_minor": 2
}
